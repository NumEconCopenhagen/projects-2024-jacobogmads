{
 "cells": [
  {
   "cell_type": "markdown",
   "metadata": {},
   "source": [
    "# CAKE EATING PROBLEM"
   ]
  },
  {
   "cell_type": "markdown",
   "metadata": {},
   "source": [
    "## Introduction"
   ]
  },
  {
   "cell_type": "markdown",
   "metadata": {},
   "source": [
    "[Introduction text here]"
   ]
  },
  {
   "cell_type": "markdown",
   "metadata": {},
   "source": [
    "## Imports"
   ]
  },
  {
   "cell_type": "markdown",
   "metadata": {},
   "source": [
    "Imports and set magics:"
   ]
  },
  {
   "cell_type": "code",
   "execution_count": 17,
   "metadata": {},
   "outputs": [
    {
     "name": "stdout",
     "output_type": "stream",
     "text": [
      "The autoreload extension is already loaded. To reload it, use:\n",
      "  %reload_ext autoreload\n"
     ]
    }
   ],
   "source": [
    "import matplotlib.pyplot as plt\n",
    "import numpy as np\n",
    "from scipy import optimize\n",
    "import sympy as sm\n",
    "\n",
    "# autoreload modules when code is run\n",
    "%load_ext autoreload\n",
    "%autoreload 2\n",
    "\n",
    "# local modules\n",
    "from modelproject import *"
   ]
  },
  {
   "cell_type": "markdown",
   "metadata": {},
   "source": [
    "## Model description"
   ]
  },
  {
   "cell_type": "markdown",
   "metadata": {},
   "source": [
    "**Consider the following closed form solution of the neoclassical growth model** \n",
    "\n",
    "The preferences are given by: $$U_0=\\sum^{\\infty}_{t=0}(\\beta(1+n))^{t}log[c_t]$$\n",
    "And the resource constraints are given by: $$(1+n)k_{t+1}=k_t^\\alpha-c_t$$\n",
    "$k_0$ is exogenously given. The transversality condition can be expressed as: $$\\underset {T\\rightarrow\\infty}{lim}[k_{T+1}(\\beta(1+n))^T\\gamma^Tc_T^{-1}]$$\n",
    "And we have $\\beta(1 + n) < 1$"
   ]
  },
  {
   "cell_type": "markdown",
   "metadata": {},
   "source": [
    "### Equations"
   ]
  },
  {
   "cell_type": "markdown",
   "metadata": {},
   "source": [
    "The provided model is a so called Ramsey Growth Model, which includes time preferences in consumption optimisation and inter-temporal consumption choices.\n",
    "\n",
    "\n",
    "The model aims to capture the dynamics of economic growth and the allocation of resources over time in an economy. It provides a framework for understanding how factors such as savings, investment, population growth, and technological progress interact to determine the long-run path of key macroeconomic variables like output, consumption, and capital accumulation.\n",
    "\n",
    "Preferences Equation ($U_0$):\n",
    "This equation represents the utility function of the representative agent in the economy. The agent aims to maximize the sum of discounted utility from consumption over an infinite time horizon. The utility function is logarithmic in consumption, implying diminishing marginal utility but a constant elasticity of intertemporal substitution due to the logarithmic form.\n",
    "\n",
    "\n",
    "Resource Constraints Equation:\n",
    "This equation reflects the intertemporal budget constraint of the economy. It states that the amount of consumption and investment (represented by $c_t$ and $k_{t+1}$ respectively) cannot exceed the total output of the economy at any given time $t$. Output is a function of the capital stock $k_t$ and is determined by a production function with constant returns to scale and a Cobb-Douglas form ($k_t^\\alpha$).\n",
    "\n",
    "\n",
    "Transversality Condition:\n",
    "This condition ensures the sustainability of the economic model by asserting that the discounted value of future consumption relative to the value of the capital stock must approach zero as time extends to infinity. It prevents the economy from accumulating excessive levels of debt or capital that cannot be sustained indefinitely.\n"
   ]
  },
  {
   "cell_type": "markdown",
   "metadata": {},
   "source": [
    "### Parameters\n"
   ]
  },
  {
   "cell_type": "markdown",
   "metadata": {},
   "source": [
    "$\\beta$: This represents the discount factor, denoting the preference of consumption today over consumption in the future. It ranges between 0 and 1, where a higher value of $\\beta$ indicates a stronger preference for current consumption relative to future consumption.\n",
    "\n",
    "$n$: This parameter signifies the population growth rate or the growth rate of the labor force. It influences the overall growth rate of the economy and affects the dynamics of capital accumulation.\n",
    "\n",
    "$c_t$: This denotes consumption at time $t$. It represents the portion of output or income that households consume rather than save. It plays a crucial role in determining the well-being or utility of individuals over time.\n",
    "\n",
    "$k_t$: This represents the capital stock at time $t$. Capital accumulation, along with technological progress, drives economic growth in the neoclassical growth model. The level of capital influences future production possibilities and thus affects consumption and investment decisions.\n",
    "\n",
    "$\\gamma$: The $\\gamma$ here appears in the expression for the transversality condition. It is a scalar that might reflect various factors, such as the elasticity of intertemporal substitution, the rate of time preference, or other structural parameters of the model. It ensures the condition holds as $T$ approaches infinity, ensuring the model's sustainability and consistency over time.\n",
    "\n",
    "$\\alpha$: The $\\alpha$ represents the output elasticity of capital in the production function."
   ]
  },
  {
   "cell_type": "markdown",
   "metadata": {},
   "source": [
    "## Planners Problem"
   ]
  },
  {
   "cell_type": "markdown",
   "metadata": {},
   "source": [
    "The planners problem can be stated as the following: $$ \\underset {c_t,k_t}{max} U = \\sum ^{\\infty}_{t=0}(\\beta(1+n))^{t}log[c_t]$$\n",
    "Such that: $$(1+n)k_{t+1}=k_t^\\alpha-c_t$$"
   ]
  },
  {
   "cell_type": "markdown",
   "metadata": {},
   "source": [
    "In the following, we provide the numerical solution to the model."
   ]
  },
  {
   "cell_type": "markdown",
   "metadata": {},
   "source": [
    "#### The Bellman Equation\n"
   ]
  },
  {
   "cell_type": "markdown",
   "metadata": {},
   "source": [
    "The first step of our dynamic programming treatment is to obtain the Bellman equation. We let $v(x)$ be maximum lifetime utility attainable from the current time when $x$ units of consumption is left: $$v(x)= max \\sum ^{\\infty}_{t=0}(\\beta(1+n))^{t}log[c_t]$$"
   ]
  },
  {
   "cell_type": "markdown",
   "metadata": {},
   "source": [
    "We do not have an exact expression for $v(k_t)$, but we know that the function will satisfy: $$v(k_t)=\\underset {c_t}{max}\\{log(c_t)+\\beta(1+n)v(k_{t+1}\\}$$\n",
    "That is, the value function is just maximising the utility received from $c$ consumption today, and discounted consumption in the future period. Choosing $c$ optimally means trading off current vs future rewards."
   ]
  },
  {
   "cell_type": "markdown",
   "metadata": {},
   "source": [
    "\n",
    "The Bellman equation is a concept in dynamic programming, used to recursively express the value of a decision problem over multiple time steps. It states that the value of being in a particular state equals the immediate reward obtained from that state plus the discounted value of the future rewards attainable from all possible actions. By solving the Bellman equation, we can derive optimal policies by iteratively updating value estimates until convergence, enabling efficient decision-making in sequential decision problems.\n",
    "\n",
    "\n",
    "\n",
    "\n",
    "\n"
   ]
  },
  {
   "cell_type": "markdown",
   "metadata": {},
   "source": [
    "## Numerical solution"
   ]
  },
  {
   "cell_type": "markdown",
   "metadata": {},
   "source": [
    "### Documentation"
   ]
  },
  {
   "cell_type": "markdown",
   "metadata": {},
   "source": [
    "##### Maximize function"
   ]
  },
  {
   "cell_type": "markdown",
   "metadata": {},
   "source": [
    "In our py-file we have programmed various objects. First we've defined af maximize function, which maximizes a function $g$ over the interval $[a, b]$. We use the fact that the maximizer of g on any interval is also the minimizer of -g.  The tuple args collects any extra arguments to g. See the py-script for more."
   ]
  },
  {
   "cell_type": "markdown",
   "metadata": {},
   "source": [
    "##### CakeEating Class"
   ]
  },
  {
   "cell_type": "markdown",
   "metadata": {},
   "source": [
    "Additionally, we've created a class called CakeEating (refering to the popular name given to this model). The class initializes parameters such as the discount factor beta, the population growth rate n, and the production function parameter alpha.\n",
    "\n",
    "Additionally, it constructs a grid for possible cake levels (k_grid) using specified minimum, maximum, and size parameters. The utility function (u) is defined as logarithmic, with its derivative (u_prime) implemented accordingly.\n",
    "\n",
    "The state_action_value method calculates the value of consuming a given amount of cake (c) at a given cake level (k) based on the Bellman equation, utilizing the current value function (v_array) interpolated over the cake grid.\n",
    "\n",
    "This method aids in evaluating the optimal consumption policy for the cake-eating problem."
   ]
  },
  {
   "cell_type": "markdown",
   "metadata": {},
   "source": [
    "##### Analysis"
   ]
  },
  {
   "cell_type": "markdown",
   "metadata": {},
   "source": [
    "We start by visualising the iterative analysis by iterating over various different consumption paths.\n",
    "\n",
    "We first define ce as an object"
   ]
  },
  {
   "cell_type": "code",
   "execution_count": 18,
   "metadata": {},
   "outputs": [],
   "source": [
    "ce = CakeEating()"
   ]
  },
  {
   "cell_type": "markdown",
   "metadata": {},
   "source": [
    "We then define the grid we want to examine, the initial guess and the number of iterations."
   ]
  },
  {
   "cell_type": "code",
   "execution_count": 19,
   "metadata": {},
   "outputs": [],
   "source": [
    "k_grid = ce.k_grid\n",
    "v = ce.u(k_grid)       # Initial guess\n",
    "n = 12                 # Number of iterations"
   ]
  },
  {
   "cell_type": "markdown",
   "metadata": {},
   "source": [
    "First we plot the initial guess, and then we plot the iterations by applying the bellman equation. We've defined a function $T$ which takes $v$ and $ce$ as arguments.\n",
    "\n",
    "The graph is used to illustrate the convergence of the value function, showing how initial guesses are refined through iterations to approach an optimal value function as the model processes various levels of k."
   ]
  },
  {
   "cell_type": "code",
   "execution_count": 20,
   "metadata": {},
   "outputs": [
    {
     "data": {
      "image/png": "[encoded data removed]",
      "text/plain": [
       "<Figure size 640x480 with 1 Axes>"
      ]
     },
     "metadata": {},
     "output_type": "display_data"
    }
   ],
   "source": [
    "fig, ax = plt.subplots()\n",
    "\n",
    "ax.plot(k_grid, v, color=plt.cm.inferno(0),\n",
    "        lw=2, alpha=0.6, label='Initial guess')\n",
    "\n",
    "for i in range(n):\n",
    "    v = T(v, ce)  # Apply the Bellman operator\n",
    "    ax.plot(k_grid, v, color=plt.cm.inferno(i / n), lw=2, alpha=0.6)\n",
    "\n",
    "ax.legend()\n",
    "ax.set_ylabel('value', fontsize=12)\n",
    "ax.set_xlabel('Capital size $k$', fontsize=12)\n",
    "ax.set_title('Value function iterations')\n",
    "\n",
    "plt.show()"
   ]
  },
  {
   "cell_type": "markdown",
   "metadata": {},
   "source": [
    "Our algorithm converges after 197 iterations to an optimal value function on the grid for k."
   ]
  },
  {
   "cell_type": "code",
   "execution_count": 21,
   "metadata": {},
   "outputs": [
    {
     "name": "stdout",
     "output_type": "stream",
     "text": [
      "Error at iteration 1 is 6.532637552368996.\n",
      "Error at iteration 2 is 6.173342486988702.\n",
      "Error at iteration 3 is 5.833808650204322.\n",
      "Error at iteration 4 is 5.5129491744430865.\n",
      "Error at iteration 5 is 5.209736969848716.\n",
      "Error at iteration 6 is 4.923201436507036.\n",
      "Error at iteration 7 is 4.652425357499148.\n",
      "Error at iteration 8 is 4.3965419628367.\n",
      "Error at iteration 9 is 4.154732154880676.\n",
      "Error at iteration 10 is 3.9262218863622422.\n",
      "Error at iteration 11 is 3.7102796826123168.\n",
      "Error at iteration 12 is 3.506214300068642.\n",
      "Error at iteration 13 is 3.3133725135648717.\n",
      "Error at iteration 14 is 3.131137025318793.\n",
      "Error at iteration 15 is 2.9589244889262716.\n",
      "Error at iteration 16 is 2.7961836420353166.\n",
      "Error at iteration 17 is 2.6423935417233793.\n",
      "Error at iteration 18 is 2.4970618969285994.\n",
      "Error at iteration 19 is 2.3597234925975243.\n",
      "Error at iteration 20 is 2.229938700504661.\n",
      "Error at iteration 21 is 2.1072920719769.\n",
      "Error at iteration 22 is 1.9913910080181694.\n",
      "Error at iteration 23 is 1.881864502577173.\n",
      "Error at iteration 24 is 1.77836195493542.\n",
      "Error at iteration 25 is 1.6805520474139826.\n",
      "Error at iteration 26 is 1.588121684806211.\n",
      "Error at iteration 27 is 1.5007749921418707.\n",
      "Error at iteration 28 is 1.4182323675740633.\n",
      "Error at iteration 29 is 1.3402295873574985.\n",
      "Error at iteration 30 is 1.2665169600528259.\n",
      "Error at iteration 31 is 1.1968585272499297.\n",
      "Error at iteration 32 is 1.1310313082511811.\n",
      "Error at iteration 33 is 1.0688245862973673.\n",
      "Error at iteration 34 is 1.010039234051007.\n",
      "Error at iteration 35 is 0.9544870761781965.\n",
      "Error at iteration 36 is 0.9019902869884078.\n",
      "Error at iteration 37 is 0.8523808212040365.\n",
      "Error at iteration 38 is 0.805499876037814.\n",
      "Error at iteration 39 is 0.761197382855741.\n",
      "Error at iteration 40 is 0.7193315267986691.\n",
      "Error at iteration 41 is 0.6797682928247468.\n",
      "Error at iteration 42 is 0.6423810367193852.\n",
      "Error at iteration 43 is 0.6070500796998175.\n",
      "Error at iteration 44 is 0.5736623253163344.\n",
      "Error at iteration 45 is 0.5421108974239246.\n",
      "Error at iteration 46 is 0.5122947980656107.\n",
      "Error at iteration 47 is 0.48411858417200904.\n",
      "Error at iteration 48 is 0.45749206204254733.\n",
      "Error at iteration 49 is 0.43232999863020893.\n",
      "Error at iteration 50 is 0.4085518487055424.\n",
      "Error at iteration 51 is 0.386081497026737.\n",
      "Error at iteration 52 is 0.3648470146902696.\n",
      "Error at iteration 53 is 0.3447804288823022.\n",
      "Error at iteration 54 is 0.3258175052937844.\n",
      "Error at iteration 55 is 0.3078975425026158.\n",
      "Error at iteration 56 is 0.2909631776649775.\n",
      "Error at iteration 57 is 0.2749602028933964.\n",
      "Error at iteration 58 is 0.25983739173426557.\n",
      "Error at iteration 59 is 0.2455463351888767.\n",
      "Error at iteration 60 is 0.23204128675348556.\n",
      "Error at iteration 61 is 0.21927901598205324.\n",
      "Error at iteration 62 is 0.20721867010303185.\n",
      "Error at iteration 63 is 0.1958216432473705.\n",
      "Error at iteration 64 is 0.18505145286876257.\n",
      "Error at iteration 65 is 0.17487362296098752.\n",
      "Error at iteration 66 is 0.1652555736981327.\n",
      "Error at iteration 67 is 0.15616651714472596.\n",
      "Error at iteration 68 is 0.14757735870176703.\n",
      "Error at iteration 69 is 0.13946060397317694.\n",
      "Error at iteration 70 is 0.13179027075464944.\n",
      "Error at iteration 71 is 0.12454180586314578.\n",
      "Error at iteration 72 is 0.1176920065406648.\n",
      "Error at iteration 73 is 0.11121894618094075.\n",
      "Error at iteration 74 is 0.1051019041409802.\n",
      "Error at iteration 75 is 0.09932129941323353.\n",
      "Error at iteration 76 is 0.09385862794550803.\n",
      "Error at iteration 77 is 0.08869640340850538.\n",
      "Error at iteration 78 is 0.08381810122102706.\n",
      "Error at iteration 79 is 0.07920810565387626.\n",
      "Error at iteration 80 is 0.07485165984290632.\n",
      "Error at iteration 81 is 0.07073481855155705.\n",
      "Error at iteration 82 is 0.06684440353122056.\n",
      "Error at iteration 83 is 0.06316796133700109.\n",
      "Error at iteration 84 is 0.05969372346346802.\n",
      "Error at iteration 85 is 0.05641056867297323.\n",
      "Error at iteration 86 is 0.05330798739595366.\n",
      "Error at iteration 87 is 0.05037604808917706.\n",
      "Error at iteration 88 is 0.04760536544428362.\n",
      "Error at iteration 89 is 0.04498707034484539.\n",
      "Error at iteration 90 is 0.042512781475878114.\n",
      "Error at iteration 91 is 0.04017457849469963.\n",
      "Error at iteration 92 is 0.037964976677486106.\n",
      "Error at iteration 93 is 0.03587690296022572.\n",
      "Error at iteration 94 is 0.0339036732974165.\n",
      "Error at iteration 95 is 0.03203897126606137.\n",
      "Error at iteration 96 is 0.030276827846421384.\n",
      "Error at iteration 97 is 0.028611602314867923.\n",
      "Error at iteration 98 is 0.02703796418755644.\n",
      "Error at iteration 99 is 0.025550876157240054.\n",
      "Error at iteration 100 is 0.0241455779685964.\n",
      "Error at iteration 101 is 0.022817571180326013.\n",
      "Error at iteration 102 is 0.021562604765406945.\n",
      "Error at iteration 103 is 0.02037666150330608.\n",
      "Error at iteration 104 is 0.019255945120619344.\n",
      "Error at iteration 105 is 0.018196868138986133.\n",
      "Error at iteration 106 is 0.01719604039134026.\n",
      "Error at iteration 107 is 0.016250258169819176.\n",
      "Error at iteration 108 is 0.01535649397048644.\n",
      "Error at iteration 109 is 0.014511886802097251.\n",
      "Error at iteration 110 is 0.013713733027984176.\n",
      "Error at iteration 111 is 0.012959477711447676.\n",
      "Error at iteration 112 is 0.012246706437323951.\n",
      "Error at iteration 113 is 0.0115731375832695.\n",
      "Error at iteration 114 is 0.010936615016191809.\n",
      "Error at iteration 115 is 0.010335101190293017.\n",
      "Error at iteration 116 is 0.009766670624827611.\n",
      "Error at iteration 117 is 0.009229503740471046.\n",
      "Error at iteration 118 is 0.008721881034745138.\n",
      "Error at iteration 119 is 0.008242177577827192.\n",
      "Error at iteration 120 is 0.00778885781105032.\n",
      "Error at iteration 121 is 0.007360470631439853.\n",
      "Error at iteration 122 is 0.006955644746710732.\n",
      "Error at iteration 123 is 0.006573084285648179.\n",
      "Error at iteration 124 is 0.006211564649930779.\n",
      "Error at iteration 125 is 0.005869928594179896.\n",
      "Error at iteration 126 is 0.005547082521502489.\n",
      "Error at iteration 127 is 0.005241992982817578.\n",
      "Error at iteration 128 is 0.004953683368768225.\n",
      "Error at iteration 129 is 0.004681230783489809.\n",
      "Error at iteration 130 is 0.004423763090386501.\n",
      "Error at iteration 131 is 0.0041804561204230595.\n",
      "Error at iteration 132 is 0.003950531033794391.\n",
      "Error at iteration 133 is 0.0037332518269437287.\n",
      "Error at iteration 134 is 0.003527922976459763.\n",
      "Error at iteration 135 is 0.0033338872127472996.\n",
      "Error at iteration 136 is 0.0031505234160533746.\n",
      "Error at iteration 137 is 0.0029772446281697285.\n",
      "Error at iteration 138 is 0.002813496173615704.\n",
      "Error at iteration 139 is 0.002658753884077214.\n",
      "Error at iteration 140 is 0.002512522420445862.\n",
      "Error at iteration 141 is 0.0023743336873280896.\n",
      "Error at iteration 142 is 0.0022437453345247604.\n",
      "Error at iteration 143 is 0.002120339341118438.\n",
      "Error at iteration 144 is 0.002003720677365095.\n",
      "Error at iteration 145 is 0.001893516040098575.\n",
      "Error at iteration 146 is 0.0017893726578961378.\n",
      "Error at iteration 147 is 0.0016909571617134134.\n",
      "Error at iteration 148 is 0.001597954517819744.\n",
      "Error at iteration 149 is 0.0015100670193390897.\n",
      "Error at iteration 150 is 0.0014270133332701107.\n",
      "Error at iteration 151 is 0.0013485275999443047.\n",
      "Error at iteration 152 is 0.0012743585819521286.\n",
      "Error at iteration 153 is 0.0012042688599365192.\n",
      "Error at iteration 154 is 0.001138034072639016.\n",
      "Error at iteration 155 is 0.0010754421986547413.\n",
      "Error at iteration 156 is 0.0010162928777219804.\n",
      "Error at iteration 157 is 0.0009603967694431503.\n",
      "Error at iteration 158 is 0.0009075749471350036.\n",
      "Error at iteration 159 is 0.0008576583250317071.\n",
      "Error at iteration 160 is 0.0008104871171639161.\n",
      "Error at iteration 161 is 0.000765910325711161.\n",
      "Error at iteration 162 is 0.0007237852578043658.\n",
      "Error at iteration 163 is 0.0006839770686184465.\n",
      "Error at iteration 164 is 0.0006463583298454978.\n",
      "Error at iteration 165 is 0.0006108086217011532.\n",
      "Error at iteration 166 is 0.0005772141475119952.\n",
      "Error at iteration 167 is 0.000545467369406083.\n",
      "Error at iteration 168 is 0.0005154666640834193.\n",
      "Error at iteration 169 is 0.0004871159975579076.\n",
      "Error at iteration 170 is 0.00046032461769129895.\n",
      "Error at iteration 171 is 0.00043500676372332236.\n",
      "Error at iteration 172 is 0.0004110813917179712.\n",
      "Error at iteration 173 is 0.00038847191517277224.\n",
      "Error at iteration 174 is 0.00036710595983890926.\n",
      "Error at iteration 175 is 0.0003469151320416586.\n",
      "Error at iteration 176 is 0.00032783479979059393.\n",
      "Error at iteration 177 is 0.0003098038857984875.\n",
      "Error at iteration 178 is 0.0002927646720820576.\n",
      "Error at iteration 179 is 0.0002766626151071705.\n",
      "Error at iteration 180 is 0.0002614461712795446.\n",
      "Error at iteration 181 is 0.00024706663187146205.\n",
      "Error at iteration 182 is 0.00023347796711448154.\n",
      "Error at iteration 183 is 0.0002206366789181402.\n",
      "Error at iteration 184 is 0.0002085016615751556.\n",
      "Error at iteration 185 is 0.00019703407019733277.\n",
      "Error at iteration 186 is 0.0001861971963421638.\n",
      "Error at iteration 187 is 0.00017595635054590275.\n",
      "Error at iteration 188 is 0.000166278751265736.\n",
      "Error at iteration 189 is 0.00015713341994683105.\n",
      "Error at iteration 190 is 0.00014849108185188697.\n",
      "Error at iteration 191 is 0.0001403240723547583.\n",
      "Error at iteration 192 is 0.00013260624838551394.\n",
      "Error at iteration 193 is 0.00012531290472850287.\n",
      "Error at iteration 194 is 0.00011842069496026397.\n",
      "Error at iteration 195 is 0.00011190755674306274.\n",
      "Error at iteration 196 is 0.00010575264111878369.\n",
      "Error at iteration 197 is 9.99362458600217e-05.\n",
      "\n",
      "Converged in 197 iterations.\n"
     ]
    }
   ],
   "source": [
    "v, policy = compute_value_and_policy(ce)"
   ]
  },
  {
   "cell_type": "markdown",
   "metadata": {},
   "source": [
    "Finally we plot the optimal value funtion and consumption policy on the grid for k. \n",
    "\n",
    "Value function:\n",
    "Due to the value functions concavity we become aware of the trade off in the cake eating problem. \n",
    "\n",
    "1. If we delay consumption we will loose utility due to the discount factor. We will rather consume cake today than cake tomorrow. \n",
    "2. If we on the other hand were to consume everything today we would get to full.  \n",
    "\n",
    "This impies there's diminishing marginal utility, meaning that the benefit gained from each extra spoonful of cake consumed within a single period decreases progressively. It is therefor beneficial for the consumer to do consumption smoothining. \n",
    "\n",
    "Consumption policy:\n",
    "\n",
    "When the consumers kapital increases, then the consumption will increase aswell. We notice that the consumer split their assest between consumption and saving. They do not increase their consumption, but chooses the same amount of consumption, therefore showing consumption smoothing. "
   ]
  },
  {
   "cell_type": "code",
   "execution_count": 22,
   "metadata": {},
   "outputs": [
    {
     "data": {
      "image/png": "[encoded data removed]",
      "text/plain": [
       "<Figure size 1200x500 with 2 Axes>"
      ]
     },
     "metadata": {},
     "output_type": "display_data"
    }
   ],
   "source": [
    "# Plot the value function\n",
    "fig, ax = plt.subplots(1, 2, figsize=(12, 5))\n",
    "\n",
    "ax[0].plot(k_grid, v, label='Approximate value function', color=\"red\")\n",
    "ax[0].set_ylabel('$V(k)$', fontsize=12)\n",
    "ax[0].set_xlabel('$k$', fontsize=12)\n",
    "ax[0].set_title('Value function')\n",
    "ax[0].legend()\n",
    "\n",
    "# Plot the consumption policy\n",
    "ax[1].plot(k_grid, policy, label='Consumption policy', color=\"red\")\n",
    "ax[1].set_ylabel('$Consumption$', fontsize=12)\n",
    "ax[1].set_xlabel('$k$', fontsize=12)\n",
    "ax[1].set_title('Consumption policy')\n",
    "ax[1].legend()\n",
    "\n",
    "plt.tight_layout()\n",
    "plt.show()"
   ]
  },
  {
   "cell_type": "markdown",
   "metadata": {},
   "source": [
    "# Further analysis"
   ]
  },
  {
   "cell_type": "markdown",
   "metadata": {},
   "source": [
    "In the following, we try to examine how different $\\beta$ (discount-factor) values affect the optimal consumption path."
   ]
  },
  {
   "cell_type": "markdown",
   "metadata": {},
   "source": [
    "We first import the Slider function from matplotlibs widgets."
   ]
  },
  {
   "cell_type": "code",
   "execution_count": 23,
   "metadata": {},
   "outputs": [],
   "source": [
    "from matplotlib.widgets import Slider"
   ]
  },
  {
   "cell_type": "markdown",
   "metadata": {},
   "source": [
    "We then define a update function, which updates the beta value given by the Slider. Afterwards, we update ce.beta to contain the new beta value. Fiunally we update the v to contain the new value funciton given the new beta value."
   ]
  },
  {
   "cell_type": "code",
   "execution_count": 24,
   "metadata": {},
   "outputs": [],
   "source": [
    "def update(val):\n",
    "    beta = slider.val\n",
    "    ce.beta = beta\n",
    "    v = compute_value_function(ce)\n",
    "    line.set_ydata(v)\n",
    "    ax.set_title('Value function (Beta = {:.2f})'.format(beta))\n",
    "    fig.canvas.draw_idle()"
   ]
  },
  {
   "cell_type": "markdown",
   "metadata": {},
   "source": [
    "We plot the graph, where we have added the slider in the bottom."
   ]
  },
  {
   "cell_type": "code",
   "execution_count": 25,
   "metadata": {},
   "outputs": [
    {
     "data": {
      "image/png": "[encoded data removed]",
      "text/plain": [
       "<Figure size 640x480 with 2 Axes>"
      ]
     },
     "metadata": {},
     "output_type": "display_data"
    }
   ],
   "source": [
    "# Plot initial graph\n",
    "fig, ax = plt.subplots()\n",
    "line, = ax.plot(ce.k_grid, v, label='Approximate value function', color='red')\n",
    "ax.set_ylabel('$V(k)$', fontsize=12)\n",
    "ax.set_xlabel('$k$', fontsize=12)\n",
    "ax.set_title('Value function (Beta = {:.2f})'.format(ce.beta))\n",
    "ax.legend()\n",
    "\n",
    "# Add slider for beta value\n",
    "ax_slider = fig.add_axes([0.1, -0.1, 0.8, 0.1])\n",
    "slider = Slider(ax_slider, 'Beta', 0.8, 0.95, valinit=ce.beta, color='red')\n",
    "slider.on_changed(update)\n",
    "\n",
    "plt.show()"
   ]
  },
  {
   "cell_type": "markdown",
   "metadata": {},
   "source": [
    "As we have issues with the interactiveness of the slider above, ww have also created different instances of beta below:"
   ]
  },
  {
   "cell_type": "code",
   "execution_count": 27,
   "metadata": {},
   "outputs": [
    {
     "name": "stdout",
     "output_type": "stream",
     "text": [
      "Error at iteration 1 is 0.00480881373087616.\n",
      "Error at iteration 2 is 0.0.\n",
      "\n",
      "Converged in 2 iterations.\n",
      "Error at iteration 1 is 5.807323248075871.\n",
      "Error at iteration 2 is 4.878151528383732.\n",
      "Error at iteration 3 is 4.097647283842335.\n",
      "Error at iteration 4 is 3.4420237184275635.\n",
      "Error at iteration 5 is 2.8912999234791528.\n",
      "Error at iteration 6 is 2.4286919357224868.\n",
      "Error at iteration 7 is 2.0401012260068896.\n",
      "Error at iteration 8 is 1.7136850298457915.\n",
      "Error at iteration 9 is 1.4394954250704615.\n",
      "Error at iteration 10 is 1.20917615705919.\n",
      "Error at iteration 11 is 1.0157079719297215.\n",
      "Error at iteration 12 is 0.8531946964209638.\n",
      "Error at iteration 13 is 0.7166835449936073.\n",
      "Error at iteration 14 is 0.6020141777946293.\n",
      "Error at iteration 15 is 0.5056919093474903.\n",
      "Error at iteration 16 is 0.424781203851893.\n",
      "Error at iteration 17 is 0.35681621123558926.\n",
      "Error at iteration 18 is 0.2997256174378933.\n",
      "Error at iteration 19 is 0.2517695186478335.\n",
      "Error at iteration 20 is 0.21148639566418126.\n",
      "Error at iteration 21 is 0.17764857235790998.\n",
      "Error at iteration 22 is 0.14922480078064382.\n",
      "Error at iteration 23 is 0.12534883265573882.\n",
      "Error at iteration 24 is 0.10529301943082459.\n",
      "Error at iteration 25 is 0.0884461363218918.\n",
      "Error at iteration 26 is 0.07429475451039025.\n",
      "Error at iteration 27 is 0.062407593788726956.\n",
      "Error at iteration 28 is 0.05242237878253064.\n",
      "Error at iteration 29 is 0.04403479817732148.\n",
      "Error at iteration 30 is 0.036989230468954304.\n",
      "Error at iteration 31 is 0.031070953593918205.\n",
      "Error at iteration 32 is 0.02609960101889186.\n",
      "Error at iteration 33 is 0.021923664855869163.\n",
      "Error at iteration 34 is 0.018415878478933223.\n",
      "Error at iteration 35 is 0.01546933792230476.\n",
      "Error at iteration 36 is 0.012994243854734577.\n",
      "Error at iteration 37 is 0.010915164837975055.\n",
      "Error at iteration 38 is 0.009168738463898762.\n",
      "Error at iteration 39 is 0.007701740309677518.\n",
      "Error at iteration 40 is 0.0064694618601279785.\n",
      "Error at iteration 41 is 0.005434347962506081.\n",
      "Error at iteration 42 is 0.004564852288503118.\n",
      "Error at iteration 43 is 0.0038344759223463143.\n",
      "Error at iteration 44 is 0.003220959774772325.\n",
      "Error at iteration 45 is 0.002705606210810174.\n",
      "Error at iteration 46 is 0.0022727092170740093.\n",
      "Error at iteration 47 is 0.0019090757423469995.\n",
      "Error at iteration 48 is 0.0016036236235663637.\n",
      "Error at iteration 49 is 0.0013470438438005772.\n",
      "Error at iteration 50 is 0.0011315168287922006.\n",
      "Error at iteration 51 is 0.0009504741361823221.\n",
      "Error at iteration 52 is 0.0007983982743979823.\n",
      "Error at iteration 53 is 0.0006706545504897576.\n",
      "Error at iteration 54 is 0.0005633498224142386.\n",
      "Error at iteration 55 is 0.0004732138508245498.\n",
      "Error at iteration 56 is 0.0003974996346940429.\n",
      "Error at iteration 57 is 0.00033389969314612244.\n",
      "Error at iteration 58 is 0.0002804757422438797.\n",
      "Error at iteration 59 is 0.00023559962347974306.\n",
      "Error at iteration 60 is 0.0001979036837269632.\n",
      "Error at iteration 61 is 0.00016623909432667006.\n",
      "Error at iteration 62 is 0.00013964083923667658.\n",
      "Error at iteration 63 is 0.00011729830495710303.\n",
      "Error at iteration 64 is 9.853057616737715e-05.\n",
      "\n",
      "Converged in 64 iterations.\n",
      "Error at iteration 1 is 6.169980400222432.\n",
      "Error at iteration 2 is 5.50670750719852.\n",
      "Error at iteration 3 is 4.914736450174679.\n",
      "Error at iteration 4 is 4.386402281780899.\n",
      "Error at iteration 5 is 3.9148640364894547.\n",
      "Error at iteration 6 is 3.494016152566843.\n",
      "Error at iteration 7 is 3.1184094161659033.\n",
      "Error at iteration 8 is 2.783180403928064.\n",
      "Error at iteration 9 is 2.483988510505803.\n",
      "Error at iteration 10 is 2.2169597456264256.\n",
      "Error at iteration 11 is 1.9786365729715882.\n",
      "Error at iteration 12 is 1.7659331413771397.\n",
      "Error at iteration 13 is 1.576095328679095.\n",
      "Error at iteration 14 is 1.4066650808460963.\n",
      "Error at iteration 15 is 1.2554485846551415.\n",
      "Error at iteration 16 is 1.1204878618047118.\n",
      "Error at iteration 17 is 1.000035416660701.\n",
      "Error at iteration 18 is 0.8925316093696765.\n",
      "Error at iteration 19 is 0.7965844613624355.\n",
      "Error at iteration 20 is 0.7109516317659796.\n",
      "Error at iteration 21 is 0.6345243313511375.\n",
      "Error at iteration 22 is 0.5663129657308872.\n",
      "Error at iteration 23 is 0.5054343219148194.\n",
      "Error at iteration 24 is 0.45110013230897295.\n",
      "Error at iteration 25 is 0.40260686808576196.\n",
      "Error at iteration 26 is 0.3593266297665423.\n",
      "Error at iteration 27 is 0.3206990170666373.\n",
      "Error at iteration 28 is 0.28622387273197347.\n",
      "Error at iteration 29 is 0.2554548064132831.\n",
      "Error at iteration 30 is 0.22799341472385493.\n",
      "Error at iteration 31 is 0.20348412264104354.\n",
      "Error at iteration 32 is 0.18160957945713108.\n",
      "Error at iteration 33 is 0.16208654966548863.\n",
      "Error at iteration 34 is 0.14466224557644836.\n",
      "Error at iteration 35 is 0.1291110541769811.\n",
      "Error at iteration 36 is 0.11523161585295583.\n",
      "Error at iteration 37 is 0.10284421714876402.\n",
      "Error at iteration 38 is 0.09178846380527261.\n",
      "Error at iteration 39 is 0.08192120394620162.\n",
      "Error at iteration 40 is 0.07311467452198883.\n",
      "Error at iteration 41 is 0.06525484701086981.\n",
      "Error at iteration 42 is 0.05823995095720136.\n",
      "Error at iteration 43 is 0.05197915622930793.\n",
      "Error at iteration 44 is 0.04639139693465211.\n",
      "Error at iteration 45 is 0.041404321764183294.\n",
      "Error at iteration 46 is 0.036953357174532186.\n",
      "Error at iteration 47 is 0.032980871278276425.\n",
      "Error at iteration 48 is 0.029435427615851495.\n",
      "Error at iteration 49 is 0.026271119147153854.\n",
      "Error at iteration 50 is 0.023446973838829877.\n",
      "Error at iteration 51 is 0.020926424151156198.\n",
      "Error at iteration 52 is 0.018676833554906125.\n",
      "Error at iteration 53 is 0.016669073947753077.\n",
      "Error at iteration 54 is 0.014877148498371184.\n",
      "Error at iteration 55 is 0.013277855034800723.\n",
      "Error at iteration 56 is 0.011850485618552398.\n",
      "Error at iteration 57 is 0.010576558414570059.\n",
      "Error at iteration 58 is 0.009439578384998981.\n",
      "Error at iteration 59 is 0.008424823708608642.\n",
      "Error at iteration 60 is 0.007519155159940283.\n",
      "Error at iteration 61 is 0.006710845980236968.\n",
      "Error at iteration 62 is 0.005989430037359966.\n",
      "Error at iteration 63 is 0.005345566308349703.\n",
      "Error at iteration 64 is 0.00477091793020179.\n",
      "Error at iteration 65 is 0.00425804425270826.\n",
      "Error at iteration 66 is 0.0038003044955416954.\n",
      "Error at iteration 67 is 0.003391771762267126.\n",
      "Error at iteration 68 is 0.0030271562978185784.\n",
      "Error at iteration 69 is 0.0027017369958031168.\n",
      "Error at iteration 70 is 0.0024113002687613516.\n",
      "Error at iteration 71 is 0.0021520854898682273.\n",
      "Error at iteration 72 is 0.001920736299709347.\n",
      "Error at iteration 73 is 0.0017142571474835222.\n",
      "Error at iteration 74 is 0.001529974504137499.\n",
      "Error at iteration 75 is 0.0013655022449370335.\n",
      "Error at iteration 76 is 0.0012187107536050235.\n",
      "Error at iteration 77 is 0.0010876993475932295.\n",
      "Error at iteration 78 is 0.0009707716677240796.\n",
      "Error at iteration 79 is 0.0008664137134530847.\n",
      "Error at iteration 80 is 0.0007732742392505543.\n",
      "Error at iteration 81 is 0.0006901472585383317.\n",
      "Error at iteration 82 is 0.0006159564282484098.\n",
      "Error at iteration 83 is 0.0005497411122092899.\n",
      "Error at iteration 84 is 0.000490643942640645.\n",
      "Error at iteration 85 is 0.0004378997188041467.\n",
      "Error at iteration 86 is 0.0003908254990392379.\n",
      "Error at iteration 87 is 0.0003488117578882566.\n",
      "Error at iteration 88 is 0.00031131449391352817.\n",
      "Error at iteration 89 is 0.00027784818581721993.\n",
      "Error at iteration 90 is 0.000247979505843432.\n",
      "Error at iteration 91 is 0.00022132170896327352.\n",
      "Error at iteration 92 is 0.0001975296252538783.\n",
      "Error at iteration 93 is 0.00017629519054196408.\n",
      "Error at iteration 94 is 0.00015734345755902268.\n",
      "Error at iteration 95 is 0.00014042903586641842.\n",
      "Error at iteration 96 is 0.00012533291450722572.\n",
      "Error at iteration 97 is 0.00011185962620174905.\n",
      "Error at iteration 98 is 9.983471638008723e-05.\n",
      "\n",
      "Converged in 98 iterations.\n",
      "Error at iteration 1 is 6.532637552368996.\n",
      "Error at iteration 2 is 6.173342486988702.\n",
      "Error at iteration 3 is 5.833808650204322.\n",
      "Error at iteration 4 is 5.5129491744430865.\n",
      "Error at iteration 5 is 5.209736969848716.\n",
      "Error at iteration 6 is 4.923201436507036.\n",
      "Error at iteration 7 is 4.652425357499148.\n",
      "Error at iteration 8 is 4.3965419628367.\n",
      "Error at iteration 9 is 4.154732154880676.\n",
      "Error at iteration 10 is 3.9262218863622422.\n",
      "Error at iteration 11 is 3.7102796826123168.\n",
      "Error at iteration 12 is 3.506214300068642.\n",
      "Error at iteration 13 is 3.3133725135648717.\n",
      "Error at iteration 14 is 3.131137025318793.\n",
      "Error at iteration 15 is 2.9589244889262716.\n",
      "Error at iteration 16 is 2.7961836420353166.\n",
      "Error at iteration 17 is 2.6423935417233793.\n",
      "Error at iteration 18 is 2.4970618969285994.\n",
      "Error at iteration 19 is 2.3597234925975243.\n",
      "Error at iteration 20 is 2.229938700504661.\n",
      "Error at iteration 21 is 2.1072920719769.\n",
      "Error at iteration 22 is 1.9913910080181694.\n",
      "Error at iteration 23 is 1.881864502577173.\n",
      "Error at iteration 24 is 1.77836195493542.\n",
      "Error at iteration 25 is 1.6805520474139826.\n",
      "Error at iteration 26 is 1.588121684806211.\n",
      "Error at iteration 27 is 1.5007749921418707.\n",
      "Error at iteration 28 is 1.4182323675740633.\n",
      "Error at iteration 29 is 1.3402295873574985.\n",
      "Error at iteration 30 is 1.2665169600528259.\n",
      "Error at iteration 31 is 1.1968585272499297.\n",
      "Error at iteration 32 is 1.1310313082511811.\n",
      "Error at iteration 33 is 1.0688245862973673.\n",
      "Error at iteration 34 is 1.010039234051007.\n",
      "Error at iteration 35 is 0.9544870761781965.\n",
      "Error at iteration 36 is 0.9019902869884078.\n",
      "Error at iteration 37 is 0.8523808212040365.\n",
      "Error at iteration 38 is 0.805499876037814.\n",
      "Error at iteration 39 is 0.761197382855741.\n",
      "Error at iteration 40 is 0.7193315267986691.\n",
      "Error at iteration 41 is 0.6797682928247468.\n",
      "Error at iteration 42 is 0.6423810367193852.\n",
      "Error at iteration 43 is 0.6070500796998175.\n",
      "Error at iteration 44 is 0.5736623253163344.\n",
      "Error at iteration 45 is 0.5421108974239246.\n",
      "Error at iteration 46 is 0.5122947980656107.\n",
      "Error at iteration 47 is 0.48411858417200904.\n",
      "Error at iteration 48 is 0.45749206204254733.\n",
      "Error at iteration 49 is 0.43232999863020893.\n",
      "Error at iteration 50 is 0.4085518487055424.\n",
      "Error at iteration 51 is 0.386081497026737.\n",
      "Error at iteration 52 is 0.3648470146902696.\n",
      "Error at iteration 53 is 0.3447804288823022.\n",
      "Error at iteration 54 is 0.3258175052937844.\n",
      "Error at iteration 55 is 0.3078975425026158.\n",
      "Error at iteration 56 is 0.2909631776649775.\n",
      "Error at iteration 57 is 0.2749602028933964.\n",
      "Error at iteration 58 is 0.25983739173426557.\n",
      "Error at iteration 59 is 0.2455463351888767.\n",
      "Error at iteration 60 is 0.23204128675348556.\n",
      "Error at iteration 61 is 0.21927901598205324.\n",
      "Error at iteration 62 is 0.20721867010303185.\n",
      "Error at iteration 63 is 0.1958216432473705.\n",
      "Error at iteration 64 is 0.18505145286876257.\n",
      "Error at iteration 65 is 0.17487362296098752.\n",
      "Error at iteration 66 is 0.1652555736981327.\n",
      "Error at iteration 67 is 0.15616651714472596.\n",
      "Error at iteration 68 is 0.14757735870176703.\n",
      "Error at iteration 69 is 0.13946060397317694.\n",
      "Error at iteration 70 is 0.13179027075464944.\n",
      "Error at iteration 71 is 0.12454180586314578.\n",
      "Error at iteration 72 is 0.1176920065406648.\n",
      "Error at iteration 73 is 0.11121894618094075.\n",
      "Error at iteration 74 is 0.1051019041409802.\n",
      "Error at iteration 75 is 0.09932129941323353.\n",
      "Error at iteration 76 is 0.09385862794550803.\n",
      "Error at iteration 77 is 0.08869640340850538.\n",
      "Error at iteration 78 is 0.08381810122102706.\n",
      "Error at iteration 79 is 0.07920810565387626.\n",
      "Error at iteration 80 is 0.07485165984290632.\n",
      "Error at iteration 81 is 0.07073481855155705.\n",
      "Error at iteration 82 is 0.06684440353122056.\n",
      "Error at iteration 83 is 0.06316796133700109.\n",
      "Error at iteration 84 is 0.05969372346346802.\n",
      "Error at iteration 85 is 0.05641056867297323.\n",
      "Error at iteration 86 is 0.05330798739595366.\n",
      "Error at iteration 87 is 0.05037604808917706.\n",
      "Error at iteration 88 is 0.04760536544428362.\n",
      "Error at iteration 89 is 0.04498707034484539.\n",
      "Error at iteration 90 is 0.042512781475878114.\n",
      "Error at iteration 91 is 0.04017457849469963.\n",
      "Error at iteration 92 is 0.037964976677486106.\n",
      "Error at iteration 93 is 0.03587690296022572.\n",
      "Error at iteration 94 is 0.0339036732974165.\n",
      "Error at iteration 95 is 0.03203897126606137.\n",
      "Error at iteration 96 is 0.030276827846421384.\n",
      "Error at iteration 97 is 0.028611602314867923.\n",
      "Error at iteration 98 is 0.02703796418755644.\n",
      "Error at iteration 99 is 0.025550876157240054.\n",
      "Error at iteration 100 is 0.0241455779685964.\n",
      "Error at iteration 101 is 0.022817571180326013.\n",
      "Error at iteration 102 is 0.021562604765406945.\n",
      "Error at iteration 103 is 0.02037666150330608.\n",
      "Error at iteration 104 is 0.019255945120619344.\n",
      "Error at iteration 105 is 0.018196868138986133.\n",
      "Error at iteration 106 is 0.01719604039134026.\n",
      "Error at iteration 107 is 0.016250258169819176.\n",
      "Error at iteration 108 is 0.01535649397048644.\n",
      "Error at iteration 109 is 0.014511886802097251.\n",
      "Error at iteration 110 is 0.013713733027984176.\n",
      "Error at iteration 111 is 0.012959477711447676.\n",
      "Error at iteration 112 is 0.012246706437323951.\n",
      "Error at iteration 113 is 0.0115731375832695.\n",
      "Error at iteration 114 is 0.010936615016191809.\n",
      "Error at iteration 115 is 0.010335101190293017.\n",
      "Error at iteration 116 is 0.009766670624827611.\n",
      "Error at iteration 117 is 0.009229503740471046.\n",
      "Error at iteration 118 is 0.008721881034745138.\n",
      "Error at iteration 119 is 0.008242177577827192.\n",
      "Error at iteration 120 is 0.00778885781105032.\n",
      "Error at iteration 121 is 0.007360470631439853.\n",
      "Error at iteration 122 is 0.006955644746710732.\n",
      "Error at iteration 123 is 0.006573084285648179.\n",
      "Error at iteration 124 is 0.006211564649930779.\n",
      "Error at iteration 125 is 0.005869928594179896.\n",
      "Error at iteration 126 is 0.005547082521502489.\n",
      "Error at iteration 127 is 0.005241992982817578.\n",
      "Error at iteration 128 is 0.004953683368768225.\n",
      "Error at iteration 129 is 0.004681230783489809.\n",
      "Error at iteration 130 is 0.004423763090386501.\n",
      "Error at iteration 131 is 0.0041804561204230595.\n",
      "Error at iteration 132 is 0.003950531033794391.\n",
      "Error at iteration 133 is 0.0037332518269437287.\n",
      "Error at iteration 134 is 0.003527922976459763.\n",
      "Error at iteration 135 is 0.0033338872127472996.\n",
      "Error at iteration 136 is 0.0031505234160533746.\n",
      "Error at iteration 137 is 0.0029772446281697285.\n",
      "Error at iteration 138 is 0.002813496173615704.\n",
      "Error at iteration 139 is 0.002658753884077214.\n",
      "Error at iteration 140 is 0.002512522420445862.\n",
      "Error at iteration 141 is 0.0023743336873280896.\n",
      "Error at iteration 142 is 0.0022437453345247604.\n",
      "Error at iteration 143 is 0.002120339341118438.\n",
      "Error at iteration 144 is 0.002003720677365095.\n",
      "Error at iteration 145 is 0.001893516040098575.\n",
      "Error at iteration 146 is 0.0017893726578961378.\n",
      "Error at iteration 147 is 0.0016909571617134134.\n",
      "Error at iteration 148 is 0.001597954517819744.\n",
      "Error at iteration 149 is 0.0015100670193390897.\n",
      "Error at iteration 150 is 0.0014270133332701107.\n",
      "Error at iteration 151 is 0.0013485275999443047.\n",
      "Error at iteration 152 is 0.0012743585819521286.\n",
      "Error at iteration 153 is 0.0012042688599365192.\n",
      "Error at iteration 154 is 0.001138034072639016.\n",
      "Error at iteration 155 is 0.0010754421986547413.\n",
      "Error at iteration 156 is 0.0010162928777219804.\n",
      "Error at iteration 157 is 0.0009603967694431503.\n",
      "Error at iteration 158 is 0.0009075749471350036.\n",
      "Error at iteration 159 is 0.0008576583250317071.\n",
      "Error at iteration 160 is 0.0008104871171639161.\n",
      "Error at iteration 161 is 0.000765910325711161.\n",
      "Error at iteration 162 is 0.0007237852578043658.\n",
      "Error at iteration 163 is 0.0006839770686184465.\n",
      "Error at iteration 164 is 0.0006463583298454978.\n",
      "Error at iteration 165 is 0.0006108086217011532.\n",
      "Error at iteration 166 is 0.0005772141475119952.\n",
      "Error at iteration 167 is 0.000545467369406083.\n",
      "Error at iteration 168 is 0.0005154666640834193.\n",
      "Error at iteration 169 is 0.0004871159975579076.\n",
      "Error at iteration 170 is 0.00046032461769129895.\n",
      "Error at iteration 171 is 0.00043500676372332236.\n",
      "Error at iteration 172 is 0.0004110813917179712.\n",
      "Error at iteration 173 is 0.00038847191517277224.\n",
      "Error at iteration 174 is 0.00036710595983890926.\n",
      "Error at iteration 175 is 0.0003469151320416586.\n",
      "Error at iteration 176 is 0.00032783479979059393.\n",
      "Error at iteration 177 is 0.0003098038857984875.\n",
      "Error at iteration 178 is 0.0002927646720820576.\n",
      "Error at iteration 179 is 0.0002766626151071705.\n",
      "Error at iteration 180 is 0.0002614461712795446.\n",
      "Error at iteration 181 is 0.00024706663187146205.\n",
      "Error at iteration 182 is 0.00023347796711448154.\n",
      "Error at iteration 183 is 0.0002206366789181402.\n",
      "Error at iteration 184 is 0.0002085016615751556.\n",
      "Error at iteration 185 is 0.00019703407019733277.\n",
      "Error at iteration 186 is 0.0001861971963421638.\n",
      "Error at iteration 187 is 0.00017595635054590275.\n",
      "Error at iteration 188 is 0.000166278751265736.\n",
      "Error at iteration 189 is 0.00015713341994683105.\n",
      "Error at iteration 190 is 0.00014849108185188697.\n",
      "Error at iteration 191 is 0.0001403240723547583.\n",
      "Error at iteration 192 is 0.00013260624838551394.\n",
      "Error at iteration 193 is 0.00012531290472850287.\n",
      "Error at iteration 194 is 0.00011842069496026397.\n",
      "Error at iteration 195 is 0.00011190755674306274.\n",
      "Error at iteration 196 is 0.00010575264111878369.\n",
      "Error at iteration 197 is 9.99362458600217e-05.\n",
      "\n",
      "Converged in 197 iterations.\n"
     ]
    }
   ],
   "source": [
    "# Create CakeEating instances with different beta values\n",
    "betas = [0, 0.8, 0.85, 0.9]\n",
    "ces = [CakeEating(beta=beta) for beta in betas]\n",
    "\n",
    "# Compute value functions for each instance\n",
    "value_functions = [compute_value_and_policy(ce) for ce in ces]"
   ]
  },
  {
   "cell_type": "code",
   "execution_count": 28,
   "metadata": {},
   "outputs": [
    {
     "ename": "ValueError",
     "evalue": "x and y must have same first dimension, but have shapes (150,) and (2, 150)",
     "output_type": "error",
     "traceback": [
      "\u001b[0;31m---------------------------------------------------------------------------\u001b[0m",
      "\u001b[0;31mValueError\u001b[0m                                Traceback (most recent call last)",
      "Cell \u001b[0;32mIn[28], line 4\u001b[0m\n\u001b[1;32m      2\u001b[0m fig, ax \u001b[38;5;241m=\u001b[39m plt\u001b[38;5;241m.\u001b[39msubplots()\n\u001b[1;32m      3\u001b[0m \u001b[38;5;28;01mfor\u001b[39;00m beta, v \u001b[38;5;129;01min\u001b[39;00m \u001b[38;5;28mzip\u001b[39m(betas, value_functions):\n\u001b[0;32m----> 4\u001b[0m     ax\u001b[38;5;241m.\u001b[39mplot(ces[\u001b[38;5;241m0\u001b[39m]\u001b[38;5;241m.\u001b[39mk_grid, v, label\u001b[38;5;241m=\u001b[39m\u001b[38;5;124mf\u001b[39m\u001b[38;5;124m'\u001b[39m\u001b[38;5;124mBeta = \u001b[39m\u001b[38;5;132;01m{\u001b[39;00mbeta\u001b[38;5;132;01m}\u001b[39;00m\u001b[38;5;124m'\u001b[39m)\n\u001b[1;32m      6\u001b[0m ax\u001b[38;5;241m.\u001b[39mset_ylabel(\u001b[38;5;124m'\u001b[39m\u001b[38;5;124m$V(k)$\u001b[39m\u001b[38;5;124m'\u001b[39m, fontsize\u001b[38;5;241m=\u001b[39m\u001b[38;5;241m12\u001b[39m)\n\u001b[1;32m      7\u001b[0m ax\u001b[38;5;241m.\u001b[39mset_xlabel(\u001b[38;5;124m'\u001b[39m\u001b[38;5;124m$k$\u001b[39m\u001b[38;5;124m'\u001b[39m, fontsize\u001b[38;5;241m=\u001b[39m\u001b[38;5;241m12\u001b[39m)\n",
      "File \u001b[0;32m~/anaconda3/lib/python3.11/site-packages/matplotlib/axes/_axes.py:1721\u001b[0m, in \u001b[0;36mAxes.plot\u001b[0;34m(self, scalex, scaley, data, *args, **kwargs)\u001b[0m\n\u001b[1;32m   1478\u001b[0m \u001b[38;5;250m\u001b[39m\u001b[38;5;124;03m\"\"\"\u001b[39;00m\n\u001b[1;32m   1479\u001b[0m \u001b[38;5;124;03mPlot y versus x as lines and/or markers.\u001b[39;00m\n\u001b[1;32m   1480\u001b[0m \n\u001b[0;32m   (...)\u001b[0m\n\u001b[1;32m   1718\u001b[0m \u001b[38;5;124;03m(``'green'``) or hex strings (``'#008000'``).\u001b[39;00m\n\u001b[1;32m   1719\u001b[0m \u001b[38;5;124;03m\"\"\"\u001b[39;00m\n\u001b[1;32m   1720\u001b[0m kwargs \u001b[38;5;241m=\u001b[39m cbook\u001b[38;5;241m.\u001b[39mnormalize_kwargs(kwargs, mlines\u001b[38;5;241m.\u001b[39mLine2D)\n\u001b[0;32m-> 1721\u001b[0m lines \u001b[38;5;241m=\u001b[39m [\u001b[38;5;241m*\u001b[39m\u001b[38;5;28mself\u001b[39m\u001b[38;5;241m.\u001b[39m_get_lines(\u001b[38;5;28mself\u001b[39m, \u001b[38;5;241m*\u001b[39margs, data\u001b[38;5;241m=\u001b[39mdata, \u001b[38;5;241m*\u001b[39m\u001b[38;5;241m*\u001b[39mkwargs)]\n\u001b[1;32m   1722\u001b[0m \u001b[38;5;28;01mfor\u001b[39;00m line \u001b[38;5;129;01min\u001b[39;00m lines:\n\u001b[1;32m   1723\u001b[0m     \u001b[38;5;28mself\u001b[39m\u001b[38;5;241m.\u001b[39madd_line(line)\n",
      "File \u001b[0;32m~/anaconda3/lib/python3.11/site-packages/matplotlib/axes/_base.py:303\u001b[0m, in \u001b[0;36m_process_plot_var_args.__call__\u001b[0;34m(self, axes, data, *args, **kwargs)\u001b[0m\n\u001b[1;32m    301\u001b[0m     this \u001b[38;5;241m+\u001b[39m\u001b[38;5;241m=\u001b[39m args[\u001b[38;5;241m0\u001b[39m],\n\u001b[1;32m    302\u001b[0m     args \u001b[38;5;241m=\u001b[39m args[\u001b[38;5;241m1\u001b[39m:]\n\u001b[0;32m--> 303\u001b[0m \u001b[38;5;28;01myield from\u001b[39;00m \u001b[38;5;28mself\u001b[39m\u001b[38;5;241m.\u001b[39m_plot_args(\n\u001b[1;32m    304\u001b[0m     axes, this, kwargs, ambiguous_fmt_datakey\u001b[38;5;241m=\u001b[39mambiguous_fmt_datakey)\n",
      "File \u001b[0;32m~/anaconda3/lib/python3.11/site-packages/matplotlib/axes/_base.py:499\u001b[0m, in \u001b[0;36m_process_plot_var_args._plot_args\u001b[0;34m(self, axes, tup, kwargs, return_kwargs, ambiguous_fmt_datakey)\u001b[0m\n\u001b[1;32m    496\u001b[0m     axes\u001b[38;5;241m.\u001b[39myaxis\u001b[38;5;241m.\u001b[39mupdate_units(y)\n\u001b[1;32m    498\u001b[0m \u001b[38;5;28;01mif\u001b[39;00m x\u001b[38;5;241m.\u001b[39mshape[\u001b[38;5;241m0\u001b[39m] \u001b[38;5;241m!=\u001b[39m y\u001b[38;5;241m.\u001b[39mshape[\u001b[38;5;241m0\u001b[39m]:\n\u001b[0;32m--> 499\u001b[0m     \u001b[38;5;28;01mraise\u001b[39;00m \u001b[38;5;167;01mValueError\u001b[39;00m(\u001b[38;5;124mf\u001b[39m\u001b[38;5;124m\"\u001b[39m\u001b[38;5;124mx and y must have same first dimension, but \u001b[39m\u001b[38;5;124m\"\u001b[39m\n\u001b[1;32m    500\u001b[0m                      \u001b[38;5;124mf\u001b[39m\u001b[38;5;124m\"\u001b[39m\u001b[38;5;124mhave shapes \u001b[39m\u001b[38;5;132;01m{\u001b[39;00mx\u001b[38;5;241m.\u001b[39mshape\u001b[38;5;132;01m}\u001b[39;00m\u001b[38;5;124m and \u001b[39m\u001b[38;5;132;01m{\u001b[39;00my\u001b[38;5;241m.\u001b[39mshape\u001b[38;5;132;01m}\u001b[39;00m\u001b[38;5;124m\"\u001b[39m)\n\u001b[1;32m    501\u001b[0m \u001b[38;5;28;01mif\u001b[39;00m x\u001b[38;5;241m.\u001b[39mndim \u001b[38;5;241m>\u001b[39m \u001b[38;5;241m2\u001b[39m \u001b[38;5;129;01mor\u001b[39;00m y\u001b[38;5;241m.\u001b[39mndim \u001b[38;5;241m>\u001b[39m \u001b[38;5;241m2\u001b[39m:\n\u001b[1;32m    502\u001b[0m     \u001b[38;5;28;01mraise\u001b[39;00m \u001b[38;5;167;01mValueError\u001b[39;00m(\u001b[38;5;124mf\u001b[39m\u001b[38;5;124m\"\u001b[39m\u001b[38;5;124mx and y can be no greater than 2D, but have \u001b[39m\u001b[38;5;124m\"\u001b[39m\n\u001b[1;32m    503\u001b[0m                      \u001b[38;5;124mf\u001b[39m\u001b[38;5;124m\"\u001b[39m\u001b[38;5;124mshapes \u001b[39m\u001b[38;5;132;01m{\u001b[39;00mx\u001b[38;5;241m.\u001b[39mshape\u001b[38;5;132;01m}\u001b[39;00m\u001b[38;5;124m and \u001b[39m\u001b[38;5;132;01m{\u001b[39;00my\u001b[38;5;241m.\u001b[39mshape\u001b[38;5;132;01m}\u001b[39;00m\u001b[38;5;124m\"\u001b[39m)\n",
      "\u001b[0;31mValueError\u001b[0m: x and y must have same first dimension, but have shapes (150,) and (2, 150)"
     ]
    },
    {
     "data": {
      "image/png": "[encoded data removed]",
      "text/plain": [
       "<Figure size 640x480 with 1 Axes>"
      ]
     },
     "metadata": {},
     "output_type": "display_data"
    }
   ],
   "source": [
    "# Plot value functions for different beta values\n",
    "fig, ax = plt.subplots()\n",
    "for beta, v in zip(betas, value_functions):\n",
    "    ax.plot(ces[0].k_grid, v, label=f'Beta = {beta}')\n",
    "\n",
    "ax.set_ylabel('$V(k)$', fontsize=12)\n",
    "ax.set_xlabel('$k$', fontsize=12)\n",
    "ax.set_title('Value function for different Beta values')\n",
    "ax.legend()\n",
    "plt.show()"
   ]
  },
  {
   "cell_type": "markdown",
   "metadata": {},
   "source": [
    "In the Cake Eating problem, different values of the discount factor, $\\beta$, lead to distinct consumption strategies, which are clearly illustrated in the graph.\n",
    "\n",
    "When $\\beta$ is high, as seen in the case of $\\beta = 0.9$, individuals place greater value on future utility, resulting in a more conservative approach to consuming the cake. This conservativeness is seen in the graph as the value function curve for $\\beta = 0.9$ being positioned higher compared to other $\\beta$ values, indicating a higher total utility over time from slower consumption rates.\n",
    "\n",
    "Conversely, a lower $\\beta$, such as $\\beta = 0.8$, shows a preference for immediate gratification, leading to a quicker consumption of the cake. This is reflected in the graph by the curve dipping lower, illustrating a steeper decline in the resource, prioritizing present utility over future gains.\n",
    "\n",
    "As $\\beta$ increases, the value function curves are not only higher but also flatter at higher levels of $k$, suggesting that the marginal benefit of saving an additional unit of cake becomes more significant.\n",
    "\n",
    "Thus, the graph effectively demonstrates how the choice of $\\beta$ crucially affects how the initial stock of the cake is managed over time, balancing between immediate and future consumption.\n"
   ]
  },
  {
   "cell_type": "markdown",
   "metadata": {},
   "source": [
    "# Conclusion"
   ]
  },
  {
   "cell_type": "markdown",
   "metadata": {},
   "source": [
    "Add concise conclusion. "
   ]
  }
 ],
 "metadata": {
  "kernelspec": {
   "display_name": "base",
   "language": "python",
   "name": "python3"
  },
  "language_info": {
   "codemirror_mode": {
    "name": "ipython",
    "version": 3
   },
   "file_extension": ".py",
   "mimetype": "text/x-python",
   "name": "python",
   "nbconvert_exporter": "python",
   "pygments_lexer": "ipython3",
   "version": "3.11.7"
  },
  "toc-autonumbering": true,
  "vscode": {
   "interpreter": {
    "hash": "47ef90cdf3004d3f859f1fb202523c65c07ba7c22eefd261b181f4744e2d0403"
   }
  }
 },
 "nbformat": 4,
 "nbformat_minor": 4
}
