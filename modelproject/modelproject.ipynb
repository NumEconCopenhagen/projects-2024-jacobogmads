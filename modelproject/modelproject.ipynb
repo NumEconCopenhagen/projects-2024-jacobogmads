{
 "cells": [
  {
   "cell_type": "markdown",
   "metadata": {},
   "source": [
    "# YOUR PROJECT TITLE"
   ]
  },
  {
   "cell_type": "markdown",
   "metadata": {},
   "source": [
    "Imports and set magics:"
   ]
  },
  {
   "cell_type": "code",
   "execution_count": 1,
   "metadata": {},
   "outputs": [],
   "source": [
    "import numpy as np\n",
    "from scipy import optimize\n",
    "import sympy as sm\n",
    "\n",
    "# autoreload modules when code is run\n",
    "%load_ext autoreload\n",
    "%autoreload 2\n",
    "\n",
    "# local modules\n",
    "import modelproject"
   ]
  },
  {
   "cell_type": "markdown",
   "metadata": {},
   "source": [
    "# Model description"
   ]
  },
  {
   "cell_type": "markdown",
   "metadata": {},
   "source": [
    "**Consider the following closed form solution of the neoclassical growth model** \n",
    "\n",
    "The preferences are given by: $$U_0=\\sum^{\\infty}_{t=0}(\\beta(1+n))^{t}log[c_t]$$\n",
    "And the resource constraints are given by: $$(1+n)k_{t+1}=k_t^\\alpha-c_t$$\n",
    "$k_0$ is exogenously given. The transversality condition can be expressed as: $$Lim_{T\\rightarrow\\infty}[k_{T+1}(\\beta(1+n))^T\\gamma^Tc_T^{-1}]$$\n",
    "And we have $\\beta(1 + n) < 1$"
   ]
  },
  {
   "cell_type": "markdown",
   "metadata": {},
   "source": [
    "# Parameters\n",
    "\n",
    "$\\beta$: This represents the discount factor, denoting the preference of consumption today over consumption in the future. It ranges between 0 and 1, where a higher value of $\\beta$ indicates a stronger preference for current consumption relative to future consumption.\n",
    "\n",
    "$n$: This parameter signifies the population growth rate or the growth rate of the labor force. It influences the overall growth rate of the economy and affects the dynamics of capital accumulation.\n",
    "\n",
    "$c_t$: This denotes consumption at time $t$. It represents the portion of output or income that households consume rather than save. It plays a crucial role in determining the well-being or utility of individuals over time.\n",
    "\n",
    "$k_t$: This represents the capital stock at time $t$. Capital accumulation, along with technological progress, drives economic growth in the neoclassical growth model. The level of capital influences future production possibilities and thus affects consumption and investment decisions.\n",
    "\n",
    "$\\gamma$: The $\\gamma$ here appears in the expression for the transversality condition. It is a scalar that might reflect various factors, such as the elasticity of intertemporal substitution, the rate of time preference, or other structural parameters of the model. It ensures the condition holds as $T$ approaches infinity, ensuring the model's sustainability and consistency over time.\n"
   ]
  },
  {
   "cell_type": "markdown",
   "metadata": {},
   "source": [
    "## Equations"
   ]
  },
  {
   "cell_type": "markdown",
   "metadata": {},
   "source": [
    "The provided model is a so called Ramsey Growth Model, which includes time preferences in consumption optimisation and inter-temporal consumption choices.\n",
    "\n",
    "\n",
    "The model aims to capture the dynamics of economic growth and the allocation of resources over time in an economy. It provides a framework for understanding how factors such as savings, investment, population growth, and technological progress interact to determine the long-run path of key macroeconomic variables like output, consumption, and capital accumulation.\n",
    "\n",
    "Preferences Equation ($U_0$):\n",
    "This equation represents the utility function of the representative agent in the economy. The agent aims to maximize the sum of discounted utility from consumption over an infinite time horizon. The utility function is logarithmic in consumption, implying diminishing marginal utility but a constant elasticity of intertemporal substitution due to the logarithmic form.\n",
    "\n",
    "\n",
    "Resource Constraints Equation:\n",
    "This equation reflects the intertemporal budget constraint of the economy. It states that the amount of consumption and investment (represented by $c_t$ and $k_{t+1}$ respectively) cannot exceed the total output of the economy at any given time $t$. Output is a function of the capital stock $k_t$ and is determined by a production function with constant returns to scale and a Cobb-Douglas form ($k_t^\\alpha$).\n",
    "\n",
    "\n",
    "Transversality Condition:\n",
    "This condition ensures the sustainability of the economic model by asserting that the discounted value of future consumption relative to the value of the capital stock must approach zero as time extends to infinity. It prevents the economy from accumulating excessive levels of debt or capital that cannot be sustained indefinitely.\n"
   ]
  },
  {
   "cell_type": "markdown",
   "metadata": {},
   "source": [
    "## Planners Problem"
   ]
  },
  {
   "cell_type": "markdown",
   "metadata": {},
   "source": [
    "The planners problem can be stated as the following: $$ \\underset  $$"
   ]
  },
  {
   "cell_type": "markdown",
   "metadata": {},
   "source": [
    "## Analytical solution"
   ]
  },
  {
   "cell_type": "markdown",
   "metadata": {},
   "source": [
    "If your model allows for an analytical solution, you should provide here.\n",
    "\n",
    "You may use Sympy for this. Then you can characterize the solution as a function of a parameter of the model.\n",
    "\n",
    "To characterize the solution, first derive a steady state equation as a function of a parameter using Sympy.solve and then turn it into a python function by Sympy.lambdify. See the lecture notes for details. "
   ]
  },
  {
   "cell_type": "markdown",
   "metadata": {},
   "source": [
    "## Numerical solution"
   ]
  },
  {
   "cell_type": "markdown",
   "metadata": {},
   "source": [
    "You can always solve a model numerically. \n",
    "\n",
    "Define first the set of parameters you need. \n",
    "\n",
    "Then choose one of the optimization algorithms that we have gone through in the lectures based on what you think is most fitting for your model.\n",
    "\n",
    "Are there any problems with convergence? Does the model converge for all starting values? Make a lot of testing to figure these things out. "
   ]
  },
  {
   "cell_type": "markdown",
   "metadata": {},
   "source": [
    "# Further analysis"
   ]
  },
  {
   "cell_type": "markdown",
   "metadata": {},
   "source": [
    "Make detailed vizualizations of how your model changes with parameter values. \n",
    "\n",
    "Try to make an extension of the model. "
   ]
  },
  {
   "cell_type": "markdown",
   "metadata": {},
   "source": [
    "# Conclusion"
   ]
  },
  {
   "cell_type": "markdown",
   "metadata": {},
   "source": [
    "Add concise conclusion. "
   ]
  }
 ],
 "metadata": {
  "kernelspec": {
   "display_name": "base",
   "language": "python",
   "name": "python3"
  },
  "language_info": {
   "codemirror_mode": {
    "name": "ipython",
    "version": 3
   },
   "file_extension": ".py",
   "mimetype": "text/x-python",
   "name": "python",
   "nbconvert_exporter": "python",
   "pygments_lexer": "ipython3",
   "version": "3.9.10"
  },
  "toc-autonumbering": true,
  "vscode": {
   "interpreter": {
    "hash": "47ef90cdf3004d3f859f1fb202523c65c07ba7c22eefd261b181f4744e2d0403"
   }
  }
 },
 "nbformat": 4,
 "nbformat_minor": 4
}
