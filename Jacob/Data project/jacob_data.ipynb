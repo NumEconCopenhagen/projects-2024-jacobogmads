{
 "cells": [
  {
   "cell_type": "code",
   "execution_count": 275,
   "metadata": {},
   "outputs": [
    {
     "data": {
      "text/html": [
       "<div>\n",
       "<style scoped>\n",
       "    .dataframe tbody tr th:only-of-type {\n",
       "        vertical-align: middle;\n",
       "    }\n",
       "\n",
       "    .dataframe tbody tr th {\n",
       "        vertical-align: top;\n",
       "    }\n",
       "\n",
       "    .dataframe thead th {\n",
       "        text-align: right;\n",
       "    }\n",
       "</style>\n",
       "<table border=\"1\" class=\"dataframe\">\n",
       "  <thead>\n",
       "    <tr style=\"text-align: right;\">\n",
       "      <th></th>\n",
       "      <th></th>\n",
       "      <th>.1</th>\n",
       "      <th>2001M01</th>\n",
       "      <th>2001M02</th>\n",
       "      <th>2001M03</th>\n",
       "      <th>2001M04</th>\n",
       "      <th>2001M05</th>\n",
       "      <th>2001M06</th>\n",
       "      <th>2001M07</th>\n",
       "      <th>2001M08</th>\n",
       "      <th>...</th>\n",
       "      <th>2023M05</th>\n",
       "      <th>2023M06</th>\n",
       "      <th>2023M07</th>\n",
       "      <th>2023M08</th>\n",
       "      <th>2023M09</th>\n",
       "      <th>2023M10</th>\n",
       "      <th>2023M11</th>\n",
       "      <th>2023M12</th>\n",
       "      <th>2024M01</th>\n",
       "      <th>2024M02</th>\n",
       "    </tr>\n",
       "  </thead>\n",
       "  <tbody>\n",
       "    <tr>\n",
       "      <th>0</th>\n",
       "      <td>Indeks</td>\n",
       "      <td>NaN</td>\n",
       "      <td>NaN</td>\n",
       "      <td>NaN</td>\n",
       "      <td>NaN</td>\n",
       "      <td>NaN</td>\n",
       "      <td>NaN</td>\n",
       "      <td>NaN</td>\n",
       "      <td>NaN</td>\n",
       "      <td>NaN</td>\n",
       "      <td>...</td>\n",
       "      <td>NaN</td>\n",
       "      <td>NaN</td>\n",
       "      <td>NaN</td>\n",
       "      <td>NaN</td>\n",
       "      <td>NaN</td>\n",
       "      <td>NaN</td>\n",
       "      <td>NaN</td>\n",
       "      <td>NaN</td>\n",
       "      <td>NaN</td>\n",
       "      <td>NaN</td>\n",
       "    </tr>\n",
       "    <tr>\n",
       "      <th>1</th>\n",
       "      <td></td>\n",
       "      <td>07.2.1 Reservedele og tilbehï¿½r</td>\n",
       "      <td>77.5</td>\n",
       "      <td>77.9</td>\n",
       "      <td>78.3</td>\n",
       "      <td>78.3</td>\n",
       "      <td>78.3</td>\n",
       "      <td>78.2</td>\n",
       "      <td>78.4</td>\n",
       "      <td>78.7</td>\n",
       "      <td>...</td>\n",
       "      <td>109.9</td>\n",
       "      <td>110.2</td>\n",
       "      <td>110.7</td>\n",
       "      <td>110.8</td>\n",
       "      <td>110.8</td>\n",
       "      <td>111.2</td>\n",
       "      <td>111.0</td>\n",
       "      <td>111.2</td>\n",
       "      <td>111.9</td>\n",
       "      <td>112.1</td>\n",
       "    </tr>\n",
       "    <tr>\n",
       "      <th>2</th>\n",
       "      <td></td>\n",
       "      <td>07.2.2 Brï¿½ndstof</td>\n",
       "      <td>71.5</td>\n",
       "      <td>73.9</td>\n",
       "      <td>72.3</td>\n",
       "      <td>75.5</td>\n",
       "      <td>79.8</td>\n",
       "      <td>75.9</td>\n",
       "      <td>73.8</td>\n",
       "      <td>73.1</td>\n",
       "      <td>...</td>\n",
       "      <td>128.7</td>\n",
       "      <td>129.9</td>\n",
       "      <td>128.4</td>\n",
       "      <td>137.3</td>\n",
       "      <td>139.6</td>\n",
       "      <td>135.7</td>\n",
       "      <td>130.0</td>\n",
       "      <td>124.9</td>\n",
       "      <td>131.1</td>\n",
       "      <td>135.0</td>\n",
       "    </tr>\n",
       "    <tr>\n",
       "      <th>3</th>\n",
       "      <td></td>\n",
       "      <td>07.2.3 Vedligeholdelse og reparation af person...</td>\n",
       "      <td>63.2</td>\n",
       "      <td>63.3</td>\n",
       "      <td>63.2</td>\n",
       "      <td>63.7</td>\n",
       "      <td>63.8</td>\n",
       "      <td>63.9</td>\n",
       "      <td>64.2</td>\n",
       "      <td>64.7</td>\n",
       "      <td>...</td>\n",
       "      <td>121.8</td>\n",
       "      <td>121.9</td>\n",
       "      <td>122.0</td>\n",
       "      <td>122.0</td>\n",
       "      <td>122.1</td>\n",
       "      <td>122.2</td>\n",
       "      <td>122.4</td>\n",
       "      <td>122.4</td>\n",
       "      <td>123.5</td>\n",
       "      <td>126.0</td>\n",
       "    </tr>\n",
       "    <tr>\n",
       "      <th>4</th>\n",
       "      <td></td>\n",
       "      <td>07.3.1.1 Personbefordring med tog</td>\n",
       "      <td>..</td>\n",
       "      <td>..</td>\n",
       "      <td>..</td>\n",
       "      <td>..</td>\n",
       "      <td>..</td>\n",
       "      <td>..</td>\n",
       "      <td>..</td>\n",
       "      <td>..</td>\n",
       "      <td>...</td>\n",
       "      <td>112.2</td>\n",
       "      <td>112.2</td>\n",
       "      <td>112.2</td>\n",
       "      <td>112.2</td>\n",
       "      <td>112.2</td>\n",
       "      <td>112.2</td>\n",
       "      <td>112.2</td>\n",
       "      <td>112.2</td>\n",
       "      <td>112.2</td>\n",
       "      <td>121.8</td>\n",
       "    </tr>\n",
       "  </tbody>\n",
       "</table>\n",
       "<p>5 rows × 280 columns</p>\n",
       "</div>"
      ],
      "text/plain": [
       "                                                          .1 2001M01 2001M02  \\\n",
       "0  Indeks                                                NaN     NaN     NaN   \n",
       "1                           07.2.1 Reservedele og tilbehï¿½r    77.5    77.9   \n",
       "2                                         07.2.2 Brï¿½ndstof    71.5    73.9   \n",
       "3          07.2.3 Vedligeholdelse og reparation af person...    63.2    63.3   \n",
       "4                          07.3.1.1 Personbefordring med tog      ..      ..   \n",
       "\n",
       "  2001M03 2001M04 2001M05 2001M06 2001M07 2001M08  ... 2023M05 2023M06  \\\n",
       "0     NaN     NaN     NaN     NaN     NaN     NaN  ...     NaN     NaN   \n",
       "1    78.3    78.3    78.3    78.2    78.4    78.7  ...   109.9   110.2   \n",
       "2    72.3    75.5    79.8    75.9    73.8    73.1  ...   128.7   129.9   \n",
       "3    63.2    63.7    63.8    63.9    64.2    64.7  ...   121.8   121.9   \n",
       "4      ..      ..      ..      ..      ..      ..  ...   112.2   112.2   \n",
       "\n",
       "  2023M07 2023M08 2023M09 2023M10 2023M11 2023M12 2024M01 2024M02  \n",
       "0     NaN     NaN     NaN     NaN     NaN     NaN     NaN     NaN  \n",
       "1   110.7   110.8   110.8   111.2   111.0   111.2   111.9   112.1  \n",
       "2   128.4   137.3   139.6   135.7   130.0   124.9   131.1   135.0  \n",
       "3   122.0   122.0   122.1   122.2   122.4   122.4   123.5   126.0  \n",
       "4   112.2   112.2   112.2   112.2   112.2   112.2   112.2   121.8  \n",
       "\n",
       "[5 rows x 280 columns]"
      ]
     },
     "execution_count": 275,
     "metadata": {},
     "output_type": "execute_result"
    }
   ],
   "source": [
    "import pandas as pd\n",
    "\n",
    "df = pd.read_csv(\"/Users/jacob/Documents/GitHub/projects-2024-jacobogmads/Jacob/Data project/data.csv\", encoding='ISO-8859-1', skiprows=[0])\n",
    "df.head()"
   ]
  },
  {
   "cell_type": "markdown",
   "metadata": {},
   "source": [
    "# Cleaning the data"
   ]
  },
  {
   "cell_type": "markdown",
   "metadata": {},
   "source": [
    "We rename the indexes. We create a dictionary with the proper names, and then perform the remapping."
   ]
  },
  {
   "cell_type": "code",
   "execution_count": 276,
   "metadata": {},
   "outputs": [],
   "source": [
    "# Define your mapping of Danish names to more meaningful names or translations\n",
    "# Example:\n",
    "var_dict = {\n",
    "     '07.2.1 Reservedele og tilbehï¿½r': 'Spare parts and accessories',\n",
    "     '07.2.2 Brï¿½ndstof': 'Fuel',\n",
    "     '07.2.3 Vedligeholdelse og reparation af personlige transportmidler': 'Maintenance and repair of personal transportation equipment',\n",
    "     '07.3.1.1 Personbefordring med tog': 'Passenger transport by train',\n",
    "     '07.3.1.2 Personbefordring med metro': 'Passenger transport by metro',\n",
    "     '07.3.2.1Personbefordring med bus': 'Passenger transport by bus',\n",
    "     '07.3.2.2 Personbefordring med taxi og lejet bil med fï¿½rer': 'Passenger transport by taxi and rented car with driver',\n",
    "     '07.3.3.1 Indenrigsflyvning': 'Domestic flights',\n",
    "     '07.3.4 Personbefordring med fï¿½rge': 'Passenger transport by ferry',\n",
    "     '07.3.4.1 Personbefordring ad sï¿½vejen': 'Passenger transport by sea',\n",
    "     'ï¿½ndring i forhold til mï¿½neden fï¿½r (pct.)': 'Change compared to the previous month (pct.)',\n",
    "     'ï¿½ndring i forhold til samme mï¿½ned ï¿½ret fï¿½r (pct.)': 'Change compared to the same month last year (pct.)'\n",
    " }\n",
    "\n",
    "# Rename the indexes\n",
    "df.replace(var_dict, inplace=True)"
   ]
  },
  {
   "cell_type": "markdown",
   "metadata": {},
   "source": [
    "We continue by droppping rows which we are not interested in. We then reset the index."
   ]
  },
  {
   "cell_type": "code",
   "execution_count": 277,
   "metadata": {},
   "outputs": [],
   "source": [
    "df = df.drop(df.index[11:])\n",
    "df = df.drop(df.index[0])\n",
    "df.reset_index(inplace = True, drop = True)"
   ]
  },
  {
   "cell_type": "markdown",
   "metadata": {},
   "source": [
    "Now we rename our index-column to Category."
   ]
  },
  {
   "cell_type": "code",
   "execution_count": 278,
   "metadata": {},
   "outputs": [
    {
     "data": {
      "text/html": [
       "<div>\n",
       "<style scoped>\n",
       "    .dataframe tbody tr th:only-of-type {\n",
       "        vertical-align: middle;\n",
       "    }\n",
       "\n",
       "    .dataframe tbody tr th {\n",
       "        vertical-align: top;\n",
       "    }\n",
       "\n",
       "    .dataframe thead th {\n",
       "        text-align: right;\n",
       "    }\n",
       "</style>\n",
       "<table border=\"1\" class=\"dataframe\">\n",
       "  <thead>\n",
       "    <tr style=\"text-align: right;\">\n",
       "      <th></th>\n",
       "      <th></th>\n",
       "      <th>Category</th>\n",
       "      <th>2001M01</th>\n",
       "      <th>2001M02</th>\n",
       "      <th>2001M03</th>\n",
       "      <th>2001M04</th>\n",
       "      <th>2001M05</th>\n",
       "      <th>2001M06</th>\n",
       "      <th>2001M07</th>\n",
       "      <th>2001M08</th>\n",
       "      <th>...</th>\n",
       "      <th>2023M05</th>\n",
       "      <th>2023M06</th>\n",
       "      <th>2023M07</th>\n",
       "      <th>2023M08</th>\n",
       "      <th>2023M09</th>\n",
       "      <th>2023M10</th>\n",
       "      <th>2023M11</th>\n",
       "      <th>2023M12</th>\n",
       "      <th>2024M01</th>\n",
       "      <th>2024M02</th>\n",
       "    </tr>\n",
       "  </thead>\n",
       "  <tbody>\n",
       "  </tbody>\n",
       "</table>\n",
       "<p>0 rows × 280 columns</p>\n",
       "</div>"
      ],
      "text/plain": [
       "Empty DataFrame\n",
       "Columns: [ , Category, 2001M01, 2001M02, 2001M03, 2001M04, 2001M05, 2001M06, 2001M07, 2001M08, 2001M09, 2001M10, 2001M11, 2001M12, 2002M01, 2002M02, 2002M03, 2002M04, 2002M05, 2002M06, 2002M07, 2002M08, 2002M09, 2002M10, 2002M11, 2002M12, 2003M01, 2003M02, 2003M03, 2003M04, 2003M05, 2003M06, 2003M07, 2003M08, 2003M09, 2003M10, 2003M11, 2003M12, 2004M01, 2004M02, 2004M03, 2004M04, 2004M05, 2004M06, 2004M07, 2004M08, 2004M09, 2004M10, 2004M11, 2004M12, 2005M01, 2005M02, 2005M03, 2005M04, 2005M05, 2005M06, 2005M07, 2005M08, 2005M09, 2005M10, 2005M11, 2005M12, 2006M01, 2006M02, 2006M03, 2006M04, 2006M05, 2006M06, 2006M07, 2006M08, 2006M09, 2006M10, 2006M11, 2006M12, 2007M01, 2007M02, 2007M03, 2007M04, 2007M05, 2007M06, 2007M07, 2007M08, 2007M09, 2007M10, 2007M11, 2007M12, 2008M01, 2008M02, 2008M03, 2008M04, 2008M05, 2008M06, 2008M07, 2008M08, 2008M09, 2008M10, 2008M11, 2008M12, 2009M01, 2009M02, ...]\n",
       "Index: []\n",
       "\n",
       "[0 rows x 280 columns]"
      ]
     },
     "execution_count": 278,
     "metadata": {},
     "output_type": "execute_result"
    }
   ],
   "source": [
    "df.columns.values[1] = 'Category'\n",
    "df.iloc[[]]"
   ]
  },
  {
   "cell_type": "markdown",
   "metadata": {},
   "source": [
    "We now want to mean the monthly values for each year, so they become comparable with the rest of our data. To do so, we have to do a bit of manipulation. First we need to ensure, that our column names are correctly formatted."
   ]
  },
  {
   "cell_type": "code",
   "execution_count": 279,
   "metadata": {},
   "outputs": [],
   "source": [
    "# Strip leading/trailing spaces from column names\n",
    "df.columns = df.columns.str.strip()\n",
    "\n",
    "# Ensure column names are in the expected case, here assuming title case for 'Category'\n",
    "df.columns = df.columns.str.title()"
   ]
  },
  {
   "cell_type": "markdown",
   "metadata": {},
   "source": [
    "We then replace \"..\" to NaN to properly handle missing values when we aggregate and mean the observations."
   ]
  },
  {
   "cell_type": "code",
   "execution_count": 280,
   "metadata": {},
   "outputs": [],
   "source": [
    "# Replace '..' with NaN to properly handle missing values during aggregation\n",
    "df.replace('..', pd.NA, inplace=True)"
   ]
  },
  {
   "cell_type": "markdown",
   "metadata": {},
   "source": [
    "Now we make the conversion to long format."
   ]
  },
  {
   "cell_type": "code",
   "execution_count": 281,
   "metadata": {},
   "outputs": [],
   "source": [
    "# Convert the DataFrame from wide to long format to easily manipulate the dates and values\n",
    "df_long = pd.melt(df, id_vars=[\"Category\"], var_name=\"Date\", value_name=\"Value\")\n",
    "\n",
    "# Ensure 'Value' is numeric and handle any conversion errors by coercing them to NaN\n",
    "df_long['Value'] = pd.to_numeric(df_long['Value'], errors='coerce')"
   ]
  },
  {
   "cell_type": "markdown",
   "metadata": {},
   "source": [
    "We now convert the column names from the format from yyyyMmm to a proper datetime format."
   ]
  },
  {
   "cell_type": "code",
   "execution_count": 282,
   "metadata": {},
   "outputs": [],
   "source": [
    "# Convert 'Date' from the custom format 'YYYYMmm' to datetime, correcting the format\n",
    "df_long['Date'] = pd.to_datetime(df_long['Date'], format='%YM%m', errors='coerce')\n",
    "\n",
    "# Dropping rows where Date conversion resulted in NaT to clean up the data\n",
    "df_long.dropna(subset=['Date'], inplace=True)"
   ]
  },
  {
   "cell_type": "markdown",
   "metadata": {},
   "source": [
    "We finally group by category and year, and calculate the mean for each group."
   ]
  },
  {
   "cell_type": "code",
   "execution_count": 283,
   "metadata": {},
   "outputs": [
    {
     "name": "stdout",
     "output_type": "stream",
     "text": [
      "                        Category  Date       Value\n",
      "0               Domestic flights  2001         NaN\n",
      "1               Domestic flights  2002         NaN\n",
      "2               Domestic flights  2003         NaN\n",
      "3               Domestic flights  2004         NaN\n",
      "4               Domestic flights  2005         NaN\n",
      "..                           ...   ...         ...\n",
      "235  Spare parts and accessories  2020  102.358333\n",
      "236  Spare parts and accessories  2021  102.000000\n",
      "237  Spare parts and accessories  2022  105.591667\n",
      "238  Spare parts and accessories  2023  110.283333\n",
      "239  Spare parts and accessories  2024  112.000000\n",
      "\n",
      "[240 rows x 3 columns]\n"
     ]
    }
   ],
   "source": [
    "\n",
    "\n",
    "# Group by Category and Year, then calculate mean for each group\n",
    "df_yearly_mean = df_long.groupby(['Category', df_long['Date'].dt.year])['Value'].mean().reset_index()\n",
    "\n",
    "print(df_yearly_mean)\n"
   ]
  },
  {
   "cell_type": "code",
   "execution_count": null,
   "metadata": {},
   "outputs": [],
   "source": []
  }
 ],
 "metadata": {
  "kernelspec": {
   "display_name": "base",
   "language": "python",
   "name": "python3"
  },
  "language_info": {
   "codemirror_mode": {
    "name": "ipython",
    "version": 3
   },
   "file_extension": ".py",
   "mimetype": "text/x-python",
   "name": "python",
   "nbconvert_exporter": "python",
   "pygments_lexer": "ipython3",
   "version": "3.11.5"
  }
 },
 "nbformat": 4,
 "nbformat_minor": 2
}
