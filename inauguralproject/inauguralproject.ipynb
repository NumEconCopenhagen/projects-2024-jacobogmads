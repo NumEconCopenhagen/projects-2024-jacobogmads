{
 "cells": [
  {
   "cell_type": "markdown",
   "metadata": {},
   "source": [
    "# Inaugural Project"
   ]
  },
  {
   "cell_type": "code",
   "execution_count": 37,
   "metadata": {},
   "outputs": [
    {
     "name": "stdout",
     "output_type": "stream",
     "text": [
      "The autoreload extension is already loaded. To reload it, use:\n",
      "  %reload_ext autoreload\n"
     ]
    }
   ],
   "source": [
    "%load_ext autoreload \n",
    "%autoreload 2\n",
    "from inauguralproject import *"
   ]
  },
  {
   "cell_type": "markdown",
   "metadata": {},
   "source": [
    "Defining endowments:"
   ]
  },
  {
   "cell_type": "code",
   "execution_count": 2,
   "metadata": {},
   "outputs": [],
   "source": [
    "# endowments for consumer a is given:\n",
    "omega_A1 = 0.8\n",
    "omega_A2 = 0.3\n",
    "\n",
    "# enodwments for consumer b:\n",
    "omega_B1 = round(1 - omega_A1, 1)\n",
    "omega_B2 = round(1 - omega_A2, 1)"
   ]
  },
  {
   "cell_type": "code",
   "execution_count": 3,
   "metadata": {},
   "outputs": [
    {
     "name": "stdout",
     "output_type": "stream",
     "text": [
      "0.41601676461038084\n",
      "0.3036588971875663\n"
     ]
    }
   ],
   "source": [
    "\n",
    "# Initial utility is given by:\n",
    "initial_utility_A = utility_A(omega_A1, omega_A2, alpha)\n",
    "initial_utility_B = utility_B(omega_B1, omega_B2, beta)\n",
    "print(initial_utility_A)\n",
    "print(initial_utility_B)"
   ]
  },
  {
   "cell_type": "markdown",
   "metadata": {},
   "source": [
    "# Exercise 1"
   ]
  },
  {
   "cell_type": "markdown",
   "metadata": {},
   "source": [
    "Finding all possible allocations (but limited by N=75)"
   ]
  },
  {
   "cell_type": "code",
   "execution_count": 4,
   "metadata": {},
   "outputs": [],
   "source": [
    "allocations = [(x1/N, x2/N) for x1 in range(N + 1) for x2 in range(N + 1)]"
   ]
  },
  {
   "cell_type": "markdown",
   "metadata": {},
   "source": [
    "Filtereing all allocations that are not in the pareto-optimal set:"
   ]
  },
  {
   "cell_type": "code",
   "execution_count": 5,
   "metadata": {},
   "outputs": [],
   "source": [
    "pareto_improvements = [] # Laver en tom liste af pareto-fobedringer\n",
    "for x1, x2 in allocations:\n",
    "    utility_A_current = utility_A(x1, x2, alpha) #definerer den nuværende utility\n",
    "    utility_B_current = utility_B(1-x1, 1-x2, beta) # definerer den nuværende utility\n",
    "    if utility_A_current >= initial_utility_A and utility_B_current >= initial_utility_B: # hvis den nuværende utility er større end den initiale, gemmes den i listen ved .append-funktionen forneden\n",
    "        pareto_improvements.append((x1, x2))"
   ]
  },
  {
   "cell_type": "markdown",
   "metadata": {},
   "source": [
    "Plotting all allocations"
   ]
  },
  {
   "cell_type": "code",
   "execution_count": 85,
   "metadata": {},
   "outputs": [
    {
     "ename": "ValueError",
     "evalue": "too many values to unpack (expected 2)",
     "output_type": "error",
     "traceback": [
      "\u001b[0;31m---------------------------------------------------------------------------\u001b[0m",
      "\u001b[0;31mValueError\u001b[0m                                Traceback (most recent call last)",
      "Cell \u001b[0;32mIn[85], line 2\u001b[0m\n\u001b[1;32m      1\u001b[0m \u001b[38;5;66;03m# Unpacking allocations and Pareto improvements\u001b[39;00m\n\u001b[0;32m----> 2\u001b[0m pareto_x1, pareto_x2 \u001b[38;5;241m=\u001b[39m \u001b[38;5;28mzip\u001b[39m(pareto_improvements)  \u001b[38;5;66;03m# Extracting Pareto improvements\u001b[39;00m\n\u001b[1;32m      3\u001b[0m all_x1, all_x2 \u001b[38;5;241m=\u001b[39m \u001b[38;5;28mzip\u001b[39m(allocations)  \u001b[38;5;66;03m# Extracting all possible allocations\u001b[39;00m\n\u001b[1;32m      5\u001b[0m plt\u001b[38;5;241m.\u001b[39mfigure(figsize\u001b[38;5;241m=\u001b[39m(\u001b[38;5;241m10\u001b[39m, \u001b[38;5;241m10\u001b[39m))\n",
      "\u001b[0;31mValueError\u001b[0m: too many values to unpack (expected 2)"
     ]
    }
   ],
   "source": [
    "# Unpacking allocations and Pareto improvements\n",
    "pareto_x1, pareto_x2 = zip(*pareto_improvements)  # Extracting Pareto improvements\n",
    "all_x1, all_x2 = zip(*allocations)  # Extracting all possible allocations\n",
    "\n",
    "plt.figure(figsize=(10, 10))\n",
    "plt.scatter(all_x1, all_x2, color='grey', s=5, alpha=0.2, label=\"Possible Allocations\")\n",
    "plt.scatter(pareto_x1, pareto_x2, color='red', s=5, label=\"Pareto Improvements\")\n",
    "\n",
    "x1 = np.linspace(0, 1, 100)  # Creates an array of 100 points between 0 and 1\n",
    "x2 = np.linspace(0, 1, 100)\n",
    "\n",
    "\n",
    "# Assuming utility_A and utility_B are your utility functions, needing appropriate definitions above\n",
    "x1A_grid, x2A_grid = np.meshgrid(x1, x2)\n",
    "x1B_grid, x2B_grid = np.meshgrid(1-x1, 1-x2)\n",
    "utility_A_grid = utility_A(x1A_grid, x2A_grid, alpha)  # Assuming utility_A takes these parameters\n",
    "utility_B_grid = utility_B(x1B_grid, x2B_grid, beta)  # Assuming utility_B takes these parameters\n",
    "\n",
    "# Indifference curves\n",
    "plt.contour(x1A_grid, x2A_grid, utility_A_grid, levels=[initial_utility_A], colors='blue', linestyles='dashed')\n",
    "plt.contour(1-x1B_grid, 1-x2B_grid, utility_B_grid, levels=[initial_utility_B], colors='red', linestyles='dashed')\n",
    "\n",
    "# Creating custom legend for contour lines since plt.contour does not support 'label' argument\n",
    "red_line = mlines.Line2D([], [], color='red', linestyle='dashed', label='Indifference Curve A')\n",
    "blue_line = mlines.Line2D([], [], color='blue', linestyle='dashed', label='Indifference Curve B')\n",
    "plt.legend(handles=[red_line, blue_line, plt.scatter([],[], color='grey', s=5, alpha=0.2, label=\"Possible Allocations\"), plt.scatter([],[], color='red', s=5, label=\"Pareto Improvements\")])\n",
    "\n",
    "plt.xlabel(\"Good 1 for A\")\n",
    "plt.ylabel(\"Good 2 for A\")\n",
    "plt.title(\"Edgeworth Box with All Possible Allocations\")\n",
    "plt.grid(True)\n",
    "plt.show()\n"
   ]
  },
  {
   "cell_type": "markdown",
   "metadata": {},
   "source": [
    "# Opgave 2"
   ]
  },
  {
   "cell_type": "markdown",
   "metadata": {},
   "source": [
    "Market clearing error is calculated"
   ]
  },
  {
   "cell_type": "markdown",
   "metadata": {},
   "source": [
    "We start by defining a set of prises p1. We use a list comprehension to create a set of all possible prises by the given algorithm, until it reaches 2.5"
   ]
  },
  {
   "cell_type": "code",
   "execution_count": 7,
   "metadata": {},
   "outputs": [
    {
     "name": "stdout",
     "output_type": "stream",
     "text": [
      "[0.5, 0.5266666666666666, 0.5533333333333333, 0.58, 0.6066666666666667, 0.6333333333333333, 0.66, 0.6866666666666666, 0.7133333333333334, 0.74, 0.7666666666666666, 0.7933333333333333, 0.8200000000000001, 0.8466666666666667, 0.8733333333333333, 0.9, 0.9266666666666667, 0.9533333333333334, 0.98, 1.0066666666666668, 1.0333333333333332, 1.06, 1.0866666666666667, 1.1133333333333333, 1.1400000000000001, 1.1666666666666665, 1.1933333333333334, 1.22, 1.2466666666666666, 1.2733333333333334, 1.3, 1.3266666666666667, 1.3533333333333335, 1.38, 1.4066666666666667, 1.4333333333333333, 1.46, 1.4866666666666668, 1.5133333333333334, 1.54, 1.5666666666666667, 1.5933333333333333, 1.62, 1.6466666666666667, 1.6733333333333333, 1.7, 1.7266666666666666, 1.7533333333333334, 1.78, 1.8066666666666666, 1.8333333333333333, 1.86, 1.8866666666666667, 1.9133333333333333, 1.94, 1.9666666666666666, 1.9933333333333334, 2.02, 2.046666666666667, 2.0733333333333333, 2.1, 2.126666666666667, 2.1533333333333333, 2.1799999999999997, 2.206666666666667, 2.2333333333333334, 2.26, 2.2866666666666666, 2.3133333333333335, 2.34, 2.3666666666666667, 2.3933333333333335, 2.42, 2.4466666666666668, 2.4733333333333336, 2.5]\n"
     ]
    }
   ],
   "source": [
    "p1 = [0.5 + (2 * i/N) for i in range(int(2*N) + 1) if 0.5 + i/N <= 2.5]\n",
    "p1 = [i for i in p1 if i <= 2.5] # laver listen\n",
    "print(p1) # printer liste for kontrol\n",
    "p2 = 1 # Numeraire"
   ]
  },
  {
   "cell_type": "markdown",
   "metadata": {},
   "source": [
    "We define two empty lists for the errors in clearing prices."
   ]
  },
  {
   "cell_type": "code",
   "execution_count": 8,
   "metadata": {},
   "outputs": [],
   "source": [
    "epsilon1_values = []\n",
    "epsilon2_values = []"
   ]
  },
  {
   "cell_type": "markdown",
   "metadata": {},
   "source": [
    "We define the marketerror by the two demands at the given price."
   ]
  },
  {
   "cell_type": "code",
   "execution_count": 9,
   "metadata": {},
   "outputs": [],
   "source": [
    "dicteps = {}\n",
    "\n",
    "for p in p1:\n",
    "    epsilon1 = demand_A_x1(p, omega_A1, omega_A2, alpha) + demand_B_x1(p, omega_B1, omega_B2, beta) - (omega_A1 + omega_B1)\n",
    "    epsilon2 = demand_A_x2(p, omega_A1, omega_A2, alpha) + demand_B_x2(p, omega_B1, omega_B2, beta) - (omega_A2 + omega_B2)\n",
    "    epsilon1_values.append(epsilon1)\n",
    "    epsilon2_values.append(epsilon2)\n",
    "\n",
    "    dicteps[p] = (epsilon1, epsilon2)"
   ]
  },
  {
   "cell_type": "code",
   "execution_count": 10,
   "metadata": {},
   "outputs": [
    {
     "name": "stdout",
     "output_type": "stream",
     "text": [
      "{0.5: (0.533333333333333, -0.2666666666666666), 0.5266666666666666: (0.47594936708860747, -0.2506666666666666), 0.5533333333333333: (0.42409638554216844, -0.23466666666666658), 0.58: (0.3770114942528735, -0.21866666666666656), 0.6066666666666667: (0.33406593406593377, -0.20266666666666655), 0.6333333333333333: (0.2947368421052632, -0.18666666666666654), 0.66: (0.2585858585858585, -0.17066666666666652), 0.6866666666666666: (0.22524271844660193, -0.1546666666666665), 0.7133333333333334: (0.19439252336448565, -0.1386666666666665), 0.74: (0.16576576576576563, -0.1226666666666667), 0.7666666666666666: (0.13913043478260856, -0.10666666666666669), 0.7933333333333333: (0.11428571428571432, -0.09066666666666645), 0.8200000000000001: (0.09105691056910548, -0.07466666666666644), 0.8466666666666667: (0.069291338582677, -0.058666666666666534), 0.8733333333333333: (0.04885496183206106, -0.04266666666666663), 0.9: (0.02962962962962945, -0.026666666666666616), 0.9266666666666667: (0.011510791366906359, -0.01066666666666638), 0.9533333333333334: (-0.005594405594405716, 0.005333333333333412), 0.98: (-0.02176870748299331, 0.021333333333333426), 1.0066666666666668: (-0.03708609271523211, 0.03733333333333344), 1.0333333333333332: (-0.05161290322580636, 0.053333333333333455), 1.06: (-0.06540880503144664, 0.06933333333333347), 1.0866666666666667: (-0.07852760736196318, 0.08533333333333348), 1.1133333333333333: (-0.09101796407185625, 0.1013333333333335), 1.1400000000000001: (-0.1029239766081873, 0.11733333333333351), 1.1666666666666665: (-0.11428571428571432, 0.1333333333333333), 1.1933333333333334: (-0.12513966480446925, 0.14933333333333354), 1.22: (-0.13551912568306013, 0.16533333333333355), 1.2466666666666666: (-0.1454545454545455, 0.18133333333333335), 1.2733333333333334: (-0.15497382198952891, 0.19733333333333358), 1.3: (-0.16410256410256419, 0.2133333333333336), 1.3266666666666667: (-0.1728643216080401, 0.2293333333333336), 1.3533333333333335: (-0.18128078817733995, 0.24533333333333363), 1.38: (-0.18937198067632854, 0.2613333333333334), 1.4066666666666667: (-0.19715639810426544, 0.27733333333333365), 1.4333333333333333: (-0.20465116279069773, 0.29333333333333345), 1.46: (-0.2118721461187214, 0.30933333333333346), 1.4866666666666668: (-0.2188340807174889, 0.3253333333333337), 1.5133333333333334: (-0.2255506607929516, 0.3413333333333335), 1.54: (-0.23203463203463204, 0.3573333333333337), 1.5666666666666667: (-0.23829787234042554, 0.3733333333333335), 1.5933333333333333: (-0.24435146443514655, 0.38933333333333353), 1.62: (-0.25020576131687244, 0.40533333333333355), 1.6466666666666667: (-0.2558704453441297, 0.42133333333333356), 1.6733333333333333: (-0.26135458167330694, 0.4373333333333336), 1.7: (-0.2666666666666666, 0.4533333333333336), 1.7266666666666666: (-0.2718146718146719, 0.4693333333333336), 1.7533333333333334: (-0.2768060836501902, 0.4853333333333336), 1.78: (-0.28164794007490646, 0.5013333333333336), 1.8066666666666666: (-0.2863468634686348, 0.5173333333333334), 1.8333333333333333: (-0.290909090909091, 0.5333333333333337), 1.86: (-0.2953405017921147, 0.5493333333333337), 1.8866666666666667: (-0.2996466431095407, 0.5653333333333337), 1.9133333333333333: (-0.3038327526132405, 0.5813333333333337), 1.94: (-0.30790378006872854, 0.5973333333333335), 1.9666666666666666: (-0.311864406779661, 0.6133333333333333), 1.9933333333333334: (-0.31571906354515056, 0.6293333333333337), 2.02: (-0.3194719471947194, 0.6453333333333338), 2.046666666666667: (-0.32312703583061897, 0.6613333333333336), 2.0733333333333333: (-0.3266881028938906, 0.6773333333333336), 2.1: (-0.3301587301587301, 0.6933333333333338), 2.126666666666667: (-0.33354231974921644, 0.7093333333333338), 2.1533333333333333: (-0.33684210526315783, 0.7253333333333338), 2.1799999999999997: (-0.34006116207951076, 0.7413333333333332), 2.206666666666667: (-0.3432024169184291, 0.7573333333333339), 2.2333333333333334: (-0.34626865671641793, 0.7733333333333337), 2.26: (-0.34926253687315634, 0.7893333333333334), 2.2866666666666666: (-0.35218658892128274, 0.8053333333333335), 2.3133333333333335: (-0.35504322766570606, 0.8213333333333337), 2.34: (-0.3578347578347578, 0.8373333333333333), 2.3666666666666667: (-0.3605633802816901, 0.8533333333333335), 2.3933333333333335: (-0.36323119777158774, 0.869333333333334), 2.42: (-0.365840220385675, 0.8853333333333333), 2.4466666666666668: (-0.3683923705722072, 0.9013333333333335), 2.4733333333333336: (-0.3708894878706199, 0.9173333333333338), 2.5: (-0.3733333333333334, 0.9333333333333336)}\n"
     ]
    }
   ],
   "source": [
    "print(dicteps)"
   ]
  },
  {
   "cell_type": "markdown",
   "metadata": {},
   "source": [
    "To visualise the results, we first make the errors aboslute values."
   ]
  },
  {
   "cell_type": "code",
   "execution_count": 11,
   "metadata": {},
   "outputs": [],
   "source": [
    "dicteps = {k: (abs(v1), abs(v2)) for k, (v1, v2) in dicteps.items()}"
   ]
  },
  {
   "cell_type": "markdown",
   "metadata": {},
   "source": [
    "We plot the results:"
   ]
  },
  {
   "cell_type": "code",
   "execution_count": 12,
   "metadata": {},
   "outputs": [
    {
     "data": {
      "image/png": "[encoded data removed]",
      "text/plain": [
       "<Figure size 640x480 with 1 Axes>"
      ]
     },
     "metadata": {},
     "output_type": "display_data"
    }
   ],
   "source": [
    "x_values = list(dicteps.keys())\n",
    "y_values1, y_values2 = zip(*dicteps.values())\n",
    "p1: p\n",
    "# Creating a figure and an axis object\n",
    "fig, ax = plt.subplots()\n",
    "\n",
    "# Plotting the first component of the tuples\n",
    "ax.plot(x_values, y_values1, '.', label='Y1 Values', color='red')  # 'o-' for circle markers with lines\n",
    "\n",
    "# Plotting the second component of the tuples\n",
    "ax.plot(x_values, y_values2, '.', label='Y2 Values', color='blue')  # 's-' for square markers with lines\n",
    "\n",
    "# Adding title and labels\n",
    "ax.set_title('Plot of Key-Value Pairs from Dictionary')\n",
    "ax.set_xlabel('Keys')\n",
    "ax.set_ylabel('Values')\n",
    "\n",
    "# Adding a legend to the plot\n",
    "ax.legend()\n",
    "\n",
    "# Displaying the plot\n",
    "plt.show()"
   ]
  },
  {
   "cell_type": "markdown",
   "metadata": {},
   "source": [
    "# Exercise 3"
   ]
  },
  {
   "cell_type": "markdown",
   "metadata": {},
   "source": [
    "Now we find the market clearing price that minimizes the market clearing error."
   ]
  },
  {
   "cell_type": "code",
   "execution_count": 13,
   "metadata": {},
   "outputs": [],
   "source": [
    "min_sum = float('inf')\n",
    "min_p = None\n",
    "\n",
    "for p, (epsilon1, epsilon2) in dicteps.items():\n",
    "    abs_sum = abs(epsilon1) + abs(epsilon2)\n",
    "\n",
    "    if abs_sum < min_sum:\n",
    "        min_sum = abs_sum\n",
    "        min_p = p"
   ]
  },
  {
   "cell_type": "code",
   "execution_count": 14,
   "metadata": {},
   "outputs": [
    {
     "name": "stdout",
     "output_type": "stream",
     "text": [
      "Market-clearing price is 0.953 and has the error sum 0.011, which matches the visual result from exercise 2.\n"
     ]
    }
   ],
   "source": [
    "print(f'Market-clearing price is {min_p:.3f} and has the error sum {min_sum:.3f}, which matches the visual result from exercise 2.')"
   ]
  },
  {
   "cell_type": "markdown",
   "metadata": {},
   "source": [
    "We save the allocation for later use."
   ]
  },
  {
   "cell_type": "code",
   "execution_count": 15,
   "metadata": {},
   "outputs": [
    {
     "name": "stdout",
     "output_type": "stream",
     "text": [
      "(0.37156177156177156, 0.7084444444444445)\n"
     ]
    }
   ],
   "source": [
    "allocation_3 = allocation_at_price(min_p, alpha, omega_A1, omega_A2)\n",
    "print(allocation_3)"
   ]
  },
  {
   "cell_type": "markdown",
   "metadata": {},
   "source": [
    "# Exercise 4.a"
   ]
  },
  {
   "cell_type": "markdown",
   "metadata": {},
   "source": [
    "The initial utility is already calculated earlier. We thus start by variable which captures the maximum utility and we let it start by the value 0. We also pick an initual value which we leave at 0."
   ]
  },
  {
   "cell_type": "code",
   "execution_count": 16,
   "metadata": {},
   "outputs": [],
   "source": [
    "max_utility = 0\n",
    "optimal_p1 = None"
   ]
  },
  {
   "cell_type": "markdown",
   "metadata": {},
   "source": [
    "Now we iterate over all possible values of p1, so we can calculate the demand from each consumer at the given prices and their utility functions. We use this to evaluate the different possible choices of consumer A."
   ]
  },
  {
   "cell_type": "markdown",
   "metadata": {},
   "source": [
    "We then examine the different prices, and check if consumer B's utiility is fallen (Pareto criteria), and check if we can pick an allocation that yields a higher utility for A."
   ]
  },
  {
   "cell_type": "markdown",
   "metadata": {},
   "source": [
    "Both things happen over the iteration, and the optimal p1 is updated accordingly."
   ]
  },
  {
   "cell_type": "code",
   "execution_count": 17,
   "metadata": {},
   "outputs": [
    {
     "name": "stdout",
     "output_type": "stream",
     "text": [
      "[0.5, 0.5266666666666666, 0.5533333333333333, 0.58, 0.6066666666666667, 0.6333333333333333, 0.66, 0.6866666666666666, 0.7133333333333334, 0.74, 0.7666666666666666, 0.7933333333333333, 0.8200000000000001, 0.8466666666666667, 0.8733333333333333, 0.9, 0.9266666666666667, 0.9533333333333334, 0.98, 1.0066666666666668, 1.0333333333333332, 1.06, 1.0866666666666667, 1.1133333333333333, 1.1400000000000001, 1.1666666666666665, 1.1933333333333334, 1.22, 1.2466666666666666, 1.2733333333333334, 1.3, 1.3266666666666667, 1.3533333333333335, 1.38, 1.4066666666666667, 1.4333333333333333, 1.46, 1.4866666666666668, 1.5133333333333334, 1.54, 1.5666666666666667, 1.5933333333333333, 1.62, 1.6466666666666667, 1.6733333333333333, 1.7, 1.7266666666666666, 1.7533333333333334, 1.78, 1.8066666666666666, 1.8333333333333333, 1.86, 1.8866666666666667, 1.9133333333333333, 1.94, 1.9666666666666666, 1.9933333333333334, 2.02, 2.046666666666667, 2.0733333333333333, 2.1, 2.126666666666667, 2.1533333333333333, 2.1799999999999997, 2.206666666666667, 2.2333333333333334, 2.26, 2.2866666666666666, 2.3133333333333335, 2.34, 2.3666666666666667, 2.3933333333333335, 2.42, 2.4466666666666668, 2.4733333333333336, 2.5]\n"
     ]
    }
   ],
   "source": [
    "print(p1)"
   ]
  },
  {
   "cell_type": "code",
   "execution_count": 18,
   "metadata": {},
   "outputs": [
    {
     "name": "stdout",
     "output_type": "stream",
     "text": [
      "Optimal p1: 1.8866666666666667, Maximum Utility for A: 0.633615985237553\n"
     ]
    }
   ],
   "source": [
    "for p in p1:\n",
    "    xA1 = demand_A_x1(p, omega_A1, omega_A2, alpha)\n",
    "    xA2 = demand_A_x1(p, omega_A1, omega_A2, alpha)\n",
    "    xB1 = demand_B_x1(p, omega_B1, omega_B2, beta)\n",
    "    xB2 = demand_B_x2(p, omega_B1, omega_B2, beta)\n",
    "    \n",
    "    # Ensure x1 and x2 are within the bounds for both A and B\n",
    "    if 0 <= xA1 <= 1 and 0 <= xA2 <= 1 and 0 <= xB1 <= 1 and 0 <= xB2 <= 1:\n",
    "        utility_B_current = utility_B(xB1, xB2, beta)\n",
    "        if utility_B_current >= initial_utility_B:  # Ensure B is not worse off\n",
    "            utility_A_current = utility_A(1-xB1, 1-xB2, alpha)\n",
    "            if utility_A_current > max_utility:\n",
    "                max_utility = utility_A_current\n",
    "                optimal_p1 = p\n",
    "\n",
    "print(f\"Optimal p1: {optimal_p1}, Maximum Utility for A: {max_utility}\")"
   ]
  },
  {
   "cell_type": "markdown",
   "metadata": {},
   "source": [
    "Here, the allocation is defined as \"the rest\" after B has consumed. We thus have:"
   ]
  },
  {
   "cell_type": "code",
   "execution_count": 19,
   "metadata": {},
   "outputs": [
    {
     "name": "stdout",
     "output_type": "stream",
     "text": [
      "(0.619316843345112, 0.6408888888888888)\n"
     ]
    }
   ],
   "source": [
    "allocation_4a = (1- demand_B_x1(optimal_p1, omega_B1, omega_B2, beta), 1- demand_B_x2(optimal_p1, omega_B1, omega_B2, beta))\n",
    "print(allocation_4a)"
   ]
  },
  {
   "cell_type": "markdown",
   "metadata": {},
   "source": [
    "# Exercise 4b"
   ]
  },
  {
   "cell_type": "markdown",
   "metadata": {},
   "source": [
    "We optimise the allocation for A by maximising the utility for A, but where A can pick any prices (not only those defined in exercise 2)"
   ]
  },
  {
   "cell_type": "markdown",
   "metadata": {},
   "source": [
    "We first define constraints (pareto criteria)."
   ]
  },
  {
   "cell_type": "code",
   "execution_count": 20,
   "metadata": {},
   "outputs": [],
   "source": [
    "def constraints(x, omega_B1, omega_B2, beta):\n",
    "    x1, x2 = x[0], x[1]\n",
    "    return [\n",
    "        utility_B(x1, x2, beta) - utility_B(omega_B1, omega_B2, beta),  # Ensure utility B is at least its initial value\n",
    "        1 - x1,  # x1 must be <= 1\n",
    "        1 - x2   # x2 must be <= 1\n",
    "    ]\n"
   ]
  },
  {
   "cell_type": "markdown",
   "metadata": {},
   "source": [
    "Next, we define the objective function. The objective function maximizes Consumer A's utility by continuously adjusting the price.\n",
    "\n",
    "This is done by first calculating Consumer B's consumption of both goods at the given price, after which Consumer A's consumption is determined as the remaining part of the total stock (Walras).\n",
    "\n",
    "The function returns the negative value of Consumer A's utility to enable maximization through a minimization process (as Scipy.Optimize Minimize indeed minimizes)."
   ]
  },
  {
   "cell_type": "code",
   "execution_count": 21,
   "metadata": {},
   "outputs": [],
   "source": [
    "\n",
    "# Objective function to maximize A's utility by choosing p1\n",
    "def objective(p, omega_A1, omega_A2, p1, alpha):\n",
    "    return -price_utility_A(p, omega_A1, omega_A2, p1, alpha)  # Negating because we're maximizing A's utility\n"
   ]
  },
  {
   "cell_type": "markdown",
   "metadata": {},
   "source": [
    "Finally, we then use the minimize() function.\n",
    "\n",
    "The function is structured as follows:\n",
    "minimize(function to be minimized, initial guess, bounds on the variables, constraints)\n",
    "\n",
    "We have fun=objective because it is our objective function that needs to be minimized. (negative objective function)\n",
    "\n",
    "We have x0=np.array([1]) as an initial guess because we want the possibility to have multiple dimensions (this is standard, even though we could do scalar optimization, i.e., 1 variable)\n",
    "\n",
    "We have bounds=[(0, 1)] as bounds that p1 must be positive, and p2 is not bound."
   ]
  },
  {
   "cell_type": "code",
   "execution_count": 22,
   "metadata": {},
   "outputs": [
    {
     "ename": "IndexError",
     "evalue": "index 1 is out of bounds for axis 0 with size 1",
     "output_type": "error",
     "traceback": [
      "\u001b[0;31m---------------------------------------------------------------------------\u001b[0m",
      "\u001b[0;31mIndexError\u001b[0m                                Traceback (most recent call last)",
      "Cell \u001b[0;32mIn[22], line 4\u001b[0m\n\u001b[1;32m      1\u001b[0m initial_guess \u001b[38;5;241m=\u001b[39m \u001b[38;5;241m0.5\u001b[39m  \u001b[38;5;66;03m# Initial guess for price\u001b[39;00m\n\u001b[1;32m      3\u001b[0m \u001b[38;5;66;03m# Optimization call\u001b[39;00m\n\u001b[0;32m----> 4\u001b[0m result \u001b[38;5;241m=\u001b[39m minimize(\n\u001b[1;32m      5\u001b[0m     fun\u001b[38;5;241m=\u001b[39mobjective,\n\u001b[1;32m      6\u001b[0m     x0\u001b[38;5;241m=\u001b[39minitial_guess,\n\u001b[1;32m      7\u001b[0m     args\u001b[38;5;241m=\u001b[39m(alpha,),\n\u001b[1;32m      8\u001b[0m     bounds\u001b[38;5;241m=\u001b[39m[(\u001b[38;5;241m0.5\u001b[39m, \u001b[38;5;241m2.5\u001b[39m)],  \u001b[38;5;66;03m# Explicit bounds for x1 and x2\u001b[39;00m\n\u001b[1;32m      9\u001b[0m     constraints\u001b[38;5;241m=\u001b[39m{\n\u001b[1;32m     10\u001b[0m         \u001b[38;5;124m'\u001b[39m\u001b[38;5;124mtype\u001b[39m\u001b[38;5;124m'\u001b[39m: \u001b[38;5;124m'\u001b[39m\u001b[38;5;124mineq\u001b[39m\u001b[38;5;124m'\u001b[39m,\n\u001b[1;32m     11\u001b[0m         \u001b[38;5;124m'\u001b[39m\u001b[38;5;124mfun\u001b[39m\u001b[38;5;124m'\u001b[39m: constraints,\n\u001b[1;32m     12\u001b[0m         \u001b[38;5;124m'\u001b[39m\u001b[38;5;124margs\u001b[39m\u001b[38;5;124m'\u001b[39m: (omega_B1, omega_B2, beta)\n\u001b[1;32m     13\u001b[0m     }\n\u001b[1;32m     14\u001b[0m )\n",
      "File \u001b[0;32m~/anaconda3/lib/python3.11/site-packages/scipy/optimize/_minimize.py:719\u001b[0m, in \u001b[0;36mminimize\u001b[0;34m(fun, x0, args, method, jac, hess, hessp, bounds, constraints, tol, callback, options)\u001b[0m\n\u001b[1;32m    716\u001b[0m     res \u001b[38;5;241m=\u001b[39m _minimize_cobyla(fun, x0, args, constraints, callback\u001b[38;5;241m=\u001b[39mcallback,\n\u001b[1;32m    717\u001b[0m                            bounds\u001b[38;5;241m=\u001b[39mbounds, \u001b[38;5;241m*\u001b[39m\u001b[38;5;241m*\u001b[39moptions)\n\u001b[1;32m    718\u001b[0m \u001b[38;5;28;01melif\u001b[39;00m meth \u001b[38;5;241m==\u001b[39m \u001b[38;5;124m'\u001b[39m\u001b[38;5;124mslsqp\u001b[39m\u001b[38;5;124m'\u001b[39m:\n\u001b[0;32m--> 719\u001b[0m     res \u001b[38;5;241m=\u001b[39m _minimize_slsqp(fun, x0, args, jac, bounds,\n\u001b[1;32m    720\u001b[0m                           constraints, callback\u001b[38;5;241m=\u001b[39mcallback, \u001b[38;5;241m*\u001b[39m\u001b[38;5;241m*\u001b[39moptions)\n\u001b[1;32m    721\u001b[0m \u001b[38;5;28;01melif\u001b[39;00m meth \u001b[38;5;241m==\u001b[39m \u001b[38;5;124m'\u001b[39m\u001b[38;5;124mtrust-constr\u001b[39m\u001b[38;5;124m'\u001b[39m:\n\u001b[1;32m    722\u001b[0m     res \u001b[38;5;241m=\u001b[39m _minimize_trustregion_constr(fun, x0, args, jac, hess, hessp,\n\u001b[1;32m    723\u001b[0m                                        bounds, constraints,\n\u001b[1;32m    724\u001b[0m                                        callback\u001b[38;5;241m=\u001b[39mcallback, \u001b[38;5;241m*\u001b[39m\u001b[38;5;241m*\u001b[39moptions)\n",
      "File \u001b[0;32m~/anaconda3/lib/python3.11/site-packages/scipy/optimize/_slsqp_py.py:329\u001b[0m, in \u001b[0;36m_minimize_slsqp\u001b[0;34m(func, x0, args, jac, bounds, constraints, maxiter, ftol, iprint, disp, eps, callback, finite_diff_rel_step, **unknown_options)\u001b[0m\n\u001b[1;32m    325\u001b[0m \u001b[38;5;66;03m# Set the parameters that SLSQP will need\u001b[39;00m\n\u001b[1;32m    326\u001b[0m \u001b[38;5;66;03m# meq, mieq: number of equality and inequality constraints\u001b[39;00m\n\u001b[1;32m    327\u001b[0m meq \u001b[38;5;241m=\u001b[39m \u001b[38;5;28msum\u001b[39m(\u001b[38;5;28mmap\u001b[39m(\u001b[38;5;28mlen\u001b[39m, [atleast_1d(c[\u001b[38;5;124m'\u001b[39m\u001b[38;5;124mfun\u001b[39m\u001b[38;5;124m'\u001b[39m](x, \u001b[38;5;241m*\u001b[39mc[\u001b[38;5;124m'\u001b[39m\u001b[38;5;124margs\u001b[39m\u001b[38;5;124m'\u001b[39m]))\n\u001b[1;32m    328\u001b[0m           \u001b[38;5;28;01mfor\u001b[39;00m c \u001b[38;5;129;01min\u001b[39;00m cons[\u001b[38;5;124m'\u001b[39m\u001b[38;5;124meq\u001b[39m\u001b[38;5;124m'\u001b[39m]]))\n\u001b[0;32m--> 329\u001b[0m mieq \u001b[38;5;241m=\u001b[39m \u001b[38;5;28msum\u001b[39m(\u001b[38;5;28mmap\u001b[39m(\u001b[38;5;28mlen\u001b[39m, [atleast_1d(c[\u001b[38;5;124m'\u001b[39m\u001b[38;5;124mfun\u001b[39m\u001b[38;5;124m'\u001b[39m](x, \u001b[38;5;241m*\u001b[39mc[\u001b[38;5;124m'\u001b[39m\u001b[38;5;124margs\u001b[39m\u001b[38;5;124m'\u001b[39m]))\n\u001b[1;32m    330\u001b[0m            \u001b[38;5;28;01mfor\u001b[39;00m c \u001b[38;5;129;01min\u001b[39;00m cons[\u001b[38;5;124m'\u001b[39m\u001b[38;5;124mineq\u001b[39m\u001b[38;5;124m'\u001b[39m]]))\n\u001b[1;32m    331\u001b[0m \u001b[38;5;66;03m# m = The total number of constraints\u001b[39;00m\n\u001b[1;32m    332\u001b[0m m \u001b[38;5;241m=\u001b[39m meq \u001b[38;5;241m+\u001b[39m mieq\n",
      "File \u001b[0;32m~/anaconda3/lib/python3.11/site-packages/scipy/optimize/_slsqp_py.py:329\u001b[0m, in \u001b[0;36m<listcomp>\u001b[0;34m(.0)\u001b[0m\n\u001b[1;32m    325\u001b[0m \u001b[38;5;66;03m# Set the parameters that SLSQP will need\u001b[39;00m\n\u001b[1;32m    326\u001b[0m \u001b[38;5;66;03m# meq, mieq: number of equality and inequality constraints\u001b[39;00m\n\u001b[1;32m    327\u001b[0m meq \u001b[38;5;241m=\u001b[39m \u001b[38;5;28msum\u001b[39m(\u001b[38;5;28mmap\u001b[39m(\u001b[38;5;28mlen\u001b[39m, [atleast_1d(c[\u001b[38;5;124m'\u001b[39m\u001b[38;5;124mfun\u001b[39m\u001b[38;5;124m'\u001b[39m](x, \u001b[38;5;241m*\u001b[39mc[\u001b[38;5;124m'\u001b[39m\u001b[38;5;124margs\u001b[39m\u001b[38;5;124m'\u001b[39m]))\n\u001b[1;32m    328\u001b[0m           \u001b[38;5;28;01mfor\u001b[39;00m c \u001b[38;5;129;01min\u001b[39;00m cons[\u001b[38;5;124m'\u001b[39m\u001b[38;5;124meq\u001b[39m\u001b[38;5;124m'\u001b[39m]]))\n\u001b[0;32m--> 329\u001b[0m mieq \u001b[38;5;241m=\u001b[39m \u001b[38;5;28msum\u001b[39m(\u001b[38;5;28mmap\u001b[39m(\u001b[38;5;28mlen\u001b[39m, [atleast_1d(c[\u001b[38;5;124m'\u001b[39m\u001b[38;5;124mfun\u001b[39m\u001b[38;5;124m'\u001b[39m](x, \u001b[38;5;241m*\u001b[39mc[\u001b[38;5;124m'\u001b[39m\u001b[38;5;124margs\u001b[39m\u001b[38;5;124m'\u001b[39m]))\n\u001b[1;32m    330\u001b[0m            \u001b[38;5;28;01mfor\u001b[39;00m c \u001b[38;5;129;01min\u001b[39;00m cons[\u001b[38;5;124m'\u001b[39m\u001b[38;5;124mineq\u001b[39m\u001b[38;5;124m'\u001b[39m]]))\n\u001b[1;32m    331\u001b[0m \u001b[38;5;66;03m# m = The total number of constraints\u001b[39;00m\n\u001b[1;32m    332\u001b[0m m \u001b[38;5;241m=\u001b[39m meq \u001b[38;5;241m+\u001b[39m mieq\n",
      "Cell \u001b[0;32mIn[20], line 2\u001b[0m, in \u001b[0;36mconstraints\u001b[0;34m(x, omega_B1, omega_B2, beta)\u001b[0m\n\u001b[1;32m      1\u001b[0m \u001b[38;5;28;01mdef\u001b[39;00m \u001b[38;5;21mconstraints\u001b[39m(x, omega_B1, omega_B2, beta):\n\u001b[0;32m----> 2\u001b[0m     x1, x2 \u001b[38;5;241m=\u001b[39m x[\u001b[38;5;241m0\u001b[39m], x[\u001b[38;5;241m1\u001b[39m]\n\u001b[1;32m      3\u001b[0m     \u001b[38;5;28;01mreturn\u001b[39;00m [\n\u001b[1;32m      4\u001b[0m         utility_B(x1, x2, beta) \u001b[38;5;241m-\u001b[39m utility_B(omega_B1, omega_B2, beta),  \u001b[38;5;66;03m# Ensure utility B is at least its initial value\u001b[39;00m\n\u001b[1;32m      5\u001b[0m         \u001b[38;5;241m1\u001b[39m \u001b[38;5;241m-\u001b[39m x1,  \u001b[38;5;66;03m# x1 must be <= 1\u001b[39;00m\n\u001b[1;32m      6\u001b[0m         \u001b[38;5;241m1\u001b[39m \u001b[38;5;241m-\u001b[39m x2   \u001b[38;5;66;03m# x2 must be <= 1\u001b[39;00m\n\u001b[1;32m      7\u001b[0m     ]\n",
      "\u001b[0;31mIndexError\u001b[0m: index 1 is out of bounds for axis 0 with size 1"
     ]
    }
   ],
   "source": [
    "initial_guess = 0.5  # Initial guess for price\n",
    "\n",
    "# Optimization call\n",
    "result = minimize(\n",
    "    fun=objective,\n",
    "    x0=initial_guess,\n",
    "    args=(alpha,),\n",
    "    bounds=[(0.5, 2.5)],  # Explicit bounds for x1 and x2\n",
    "    constraints={\n",
    "        'type': 'ineq',\n",
    "        'fun': constraints,\n",
    "        'args': (omega_B1, omega_B2, beta)\n",
    "    }\n",
    ")"
   ]
  },
  {
   "cell_type": "code",
   "execution_count": null,
   "metadata": {},
   "outputs": [
    {
     "name": "stdout",
     "output_type": "stream",
     "text": [
      "Optimal x1: 1.000, Optimal x2: 1.000\n"
     ]
    }
   ],
   "source": [
    "# Handling the results of optimization\n",
    "if result.success:\n",
    "    x1_optimal, x2_optimal = result.x\n",
    "    print(f\"Optimal x1: {x1_optimal:.3f}, Optimal x2: {x2_optimal:.3f}\")\n",
    "else:\n",
    "    print(\"Optimization failed:\", result.message)"
   ]
  },
  {
   "cell_type": "markdown",
   "metadata": {},
   "source": [
    "We save the allocation for later use."
   ]
  },
  {
   "cell_type": "code",
   "execution_count": null,
   "metadata": {},
   "outputs": [],
   "source": [
    "allocation_4b = x1_optimal, x2_optimal"
   ]
  },
  {
   "cell_type": "code",
   "execution_count": null,
   "metadata": {},
   "outputs": [
    {
     "ename": "NameError",
     "evalue": "name 'p_ua' is not defined",
     "output_type": "error",
     "traceback": [
      "\u001b[0;31m---------------------------------------------------------------------------\u001b[0m",
      "\u001b[0;31mNameError\u001b[0m                                 Traceback (most recent call last)",
      "Cell \u001b[0;32mIn[152], line 8\u001b[0m\n\u001b[1;32m      5\u001b[0m     util_A \u001b[38;5;241m=\u001b[39m model\u001b[38;5;241m.\u001b[39mutility_A(x1A, x2A)\n\u001b[1;32m      6\u001b[0m     \u001b[38;5;28;01mreturn\u001b[39;00m \u001b[38;5;241m-\u001b[39m util_A\n\u001b[0;32m----> 8\u001b[0m x0 \u001b[38;5;241m=\u001b[39m [p_ua]\n\u001b[1;32m     10\u001b[0m results \u001b[38;5;241m=\u001b[39m minimize(obj,x0, bounds \u001b[38;5;241m=\u001b[39m [(\u001b[38;5;241m0\u001b[39m, \u001b[38;5;28;01mNone\u001b[39;00m)])\n\u001b[1;32m     12\u001b[0m \u001b[38;5;28mprint\u001b[39m(results)\n",
      "\u001b[0;31mNameError\u001b[0m: name 'p_ua' is not defined"
     ]
    }
   ],
   "source": [
    "def obj(price):\n",
    "\n",
    "    x1A = 1 - model.demand_B(price)[0]\n",
    "    x2A = 1 - model.demand_B(price)[1]\n",
    "    util_A = model.utility_A(x1A, x2A)\n",
    "    return - util_A\n",
    "\n",
    "x0 = [p_ua]\n",
    "\n",
    "results = minimize(obj,x0, bounds = [(0, None)])\n",
    "\n",
    "print(results)"
   ]
  },
  {
   "cell_type": "markdown",
   "metadata": {},
   "source": [
    "# Opgave 5a"
   ]
  },
  {
   "cell_type": "markdown",
   "metadata": {},
   "source": [
    "We have previously defined the set of allocations with Pareto improvements.\n",
    "\n",
    "Now we define two variables to capture the highest utility from the allocations, as well as the optimal allocation itself."
   ]
  },
  {
   "cell_type": "code",
   "execution_count": 38,
   "metadata": {},
   "outputs": [],
   "source": [
    "max_utility_A = -np.inf # Starter ved minus uendelig.\n",
    "optimal_allocation = None # Gøres tom fra starten (skal være None, fordi det bliver et sæt af værdier)."
   ]
  },
  {
   "cell_type": "markdown",
   "metadata": {},
   "source": [
    "Now we iterate over the different allocations and check if the current_utility is higher than max_utility - if yes, then we replace the value."
   ]
  },
  {
   "cell_type": "code",
   "execution_count": 39,
   "metadata": {},
   "outputs": [],
   "source": [
    "# Iterate over each possible allocation in pareto_improvements\n",
    "for allocation in pareto_improvements:\n",
    "    x1, x2 = allocation\n",
    "    current_utility_A = utility_A(x1, x2, alpha)\n",
    "    # Check if the current utility is greater than the max utility found so far\n",
    "    if current_utility_A > max_utility_A:\n",
    "        max_utility_A = current_utility_A\n",
    "        optimal_allocation = (x1, x2)"
   ]
  },
  {
   "cell_type": "markdown",
   "metadata": {},
   "source": [
    "We save them as x1_max and x2_max."
   ]
  },
  {
   "cell_type": "code",
   "execution_count": 40,
   "metadata": {},
   "outputs": [],
   "source": [
    "x1_max, x2_max = optimal_allocation"
   ]
  },
  {
   "cell_type": "markdown",
   "metadata": {},
   "source": [
    "And we print the values."
   ]
  },
  {
   "cell_type": "code",
   "execution_count": 41,
   "metadata": {},
   "outputs": [
    {
     "name": "stdout",
     "output_type": "stream",
     "text": [
      "Optimal x1:           0.5600\n",
      "Optimal x2:           0.8533\n",
      "Max Utility A:        0.7416\n"
     ]
    }
   ],
   "source": [
    "# Printing the results with proper formatting\n",
    "label_width = max(len(\"Optimal x1:\"), len(\"Optimal x2:\"), len(\"Max Utility A:\"))\n",
    "spacing = 2  # Spaces between the longest label and the value\n",
    "\n",
    "print(f\"{'Optimal x1:':<{label_width}}{' ' * spacing}{x1_max:12.4f}\\n\"\n",
    "      f\"{'Optimal x2:':<{label_width}}{' ' * spacing}{x2_max:12.4f}\\n\"\n",
    "      f\"{'Max Utility A:':<{label_width}}{' ' * spacing}{max_utility_A:12.4f}\")"
   ]
  },
  {
   "cell_type": "markdown",
   "metadata": {},
   "source": [
    "we save the allocation for later use."
   ]
  },
  {
   "cell_type": "code",
   "execution_count": 70,
   "metadata": {},
   "outputs": [
    {
     "name": "stdout",
     "output_type": "stream",
     "text": [
      "(0.56, 0.8533333333333334)\n"
     ]
    }
   ],
   "source": [
    "allocation_5a = (x1_max, x2_max)\n",
    "print(allocation_5a)"
   ]
  },
  {
   "cell_type": "markdown",
   "metadata": {},
   "source": [
    "# Exercise 5b"
   ]
  },
  {
   "cell_type": "markdown",
   "metadata": {},
   "source": [
    "First, the constraint is defined that consumer B's utility is not lower than initial (Pareto constraint)."
   ]
  },
  {
   "cell_type": "code",
   "execution_count": 54,
   "metadata": {},
   "outputs": [],
   "source": [
    "from inauguralproject import utility_B, utility_A\n",
    "from scipy.optimize import minimize\n",
    "alpha = 1/3\n",
    "beta = 2/3"
   ]
  },
  {
   "cell_type": "code",
   "execution_count": 73,
   "metadata": {},
   "outputs": [],
   "source": [
    "def constraint_C(x):\n",
    "    # unpack xA1, xA2\n",
    "    xA1, xA2 = x[0], x[1]\n",
    "    # calculate agent B´s allocation:\n",
    "    xB1, xB2 = 1 - xA1, 1 - xA2\n",
    "    # calculate B´s current utility\n",
    "    utility_B_current = utility_B(xB1, xB2, beta)  \n",
    "    # return the constraint indicating that B´s utility is not lower than hes initial utility\n",
    "    #if  utility_B_current >= initial_utility_B:\n",
    "    \n",
    "    return utility_B_current - initial_utility_B\n",
    "  #  else:\n",
    "   #     raise ValueError('WRONG')"
   ]
  },
  {
   "cell_type": "markdown",
   "metadata": {},
   "source": [
    "Now we define negative utility."
   ]
  },
  {
   "cell_type": "code",
   "execution_count": 74,
   "metadata": {},
   "outputs": [],
   "source": [
    "def neg_utility_A(x):\n",
    "    xA1, xA2 = x[0], x[1]\n",
    "    return -utility_A(xA1, xA2, alpha)"
   ]
  },
  {
   "cell_type": "markdown",
   "metadata": {},
   "source": [
    "And we perform the optimisation."
   ]
  },
  {
   "cell_type": "code",
   "execution_count": 83,
   "metadata": {},
   "outputs": [
    {
     "name": "stdout",
     "output_type": "stream",
     "text": [
      " message: Optimization terminated successfully\n",
      " success: True\n",
      "  status: 0\n",
      "     fun: -0.7432276357663163\n",
      "       x: [ 5.758e-01  8.444e-01]\n",
      "     nit: 4\n",
      "     jac: [-4.303e-01 -5.868e-01]\n",
      "    nfev: 12\n",
      "    njev: 4\n",
      "Maximized value for xA1: 0.5757586221794018\n",
      "Maximized value for xA2: 0.8444278524948429\n"
     ]
    }
   ],
   "source": [
    "# Define bounds for allocations\n",
    "bounds = ((0, 1), (0, 1))\n",
    "\n",
    "# Use the answer for the grid search in 5.a as the the initial gues. \n",
    "# by using allocation_5a we use less time converting. \n",
    "initial_guess = allocation_5a\n",
    "\n",
    "# Perform the optimization to minimize negative utility of A sutility_Bject to constraints\n",
    "result_A = minimize(neg_utility_A, initial_guess, bounds=bounds, constraints={'type': 'ineq', 'fun': constraint_C})\n",
    "\n",
    "# Check if the constraints are satisfied\n",
    "if not result_A.success:\n",
    "    raise ValueError(\"Optimization did not succeed. Constraint may not be satisfied.\")\n",
    "\n",
    "print(result_A)\n",
    "print(\"Maximized value for xA1:\", result_A.x[0])\n",
    "print(\"Maximized value for xA2:\", result_A.x[1])\n",
    "\n",
    "#xA1_max, xA2_max = result_A\n",
    "#utility_B_max = -result.fun"
   ]
  },
  {
   "cell_type": "markdown",
   "metadata": {},
   "source": [
    "Printing the results with proper formatting"
   ]
  },
  {
   "cell_type": "code",
   "execution_count": 35,
   "metadata": {},
   "outputs": [],
   "source": [
    "#label_width = max(len(\"Optimal x1:\"), len(\"Optimal x2:\"), len(\"Max Utility A:\"))\n",
    "#spacing = 2  # Spaces between the longest label and the value\n",
    "\n",
    "#print(f\"{'Optimal x1:':<{label_width}}{' ' * spacing}{x1_max:12.4f}\\n\"\n",
    "      #f\"{'Optimal x2:':<{label_width}}{' ' * spacing}{x2_max:12.4f}\\n\"\n",
    "      #f\"{'Max Utility A:':<{label_width}}{' ' * spacing}{utility_A_max:12.4f}\")\n"
   ]
  },
  {
   "cell_type": "markdown",
   "metadata": {},
   "source": [
    "And saving the allocation for later use."
   ]
  },
  {
   "cell_type": "code",
   "execution_count": 84,
   "metadata": {},
   "outputs": [
    {
     "name": "stdout",
     "output_type": "stream",
     "text": [
      "(0.5757586221794018, 0.8444278524948429)\n"
     ]
    }
   ],
   "source": [
    "#allocation_5b = (x1_max, x2_max)\n",
    "\n",
    "allocation_5b = (result_A.x[0], result_A.x[1])\n",
    "print(allocation_5b)\n"
   ]
  },
  {
   "cell_type": "markdown",
   "metadata": {},
   "source": [
    "So, we see that we have obtained a slightly higher utility, and this is because we do not limit the choice to the sets we had calculated with N=75.\n",
    "\n",
    "Thus, we can choose from infinitely many more sets, but this requires using an optimizer and not just examining allocations."
   ]
  },
  {
   "cell_type": "markdown",
   "metadata": {},
   "source": [
    "# Exercise 6a"
   ]
  },
  {
   "cell_type": "markdown",
   "metadata": {},
   "source": [
    "First, we define our utility function (objective function) that we want to optimize. This is defined as the negative utility function, since we are again using a minimize() function."
   ]
  },
  {
   "cell_type": "code",
   "execution_count": null,
   "metadata": {},
   "outputs": [],
   "source": [
    "def planner_utility(xA1, xA2, alpha, beta):\n",
    "    total_utility = utility_A(xA1, xA2, alpha) + utility_B(1-xA1, 1-xA2, beta)\n",
    "    return total_utility\n",
    "\n",
    "def planner_objective(x, alpha, beta):\n",
    "    xA1, xA2 = x[0], x[1]\n",
    "    return -planner_utility(xA1, xA2, alpha, beta)"
   ]
  },
  {
   "cell_type": "markdown",
   "metadata": {},
   "source": [
    "The only restriction is that x1 and x2 must each be between 0 and 1, but this is already given by the initial endowments.\n",
    "\n",
    "Therefore, we can proceed directly to optimization without restrictions."
   ]
  },
  {
   "cell_type": "code",
   "execution_count": null,
   "metadata": {},
   "outputs": [
    {
     "name": "stdout",
     "output_type": "stream",
     "text": [
      "Optimal x1: 0.33333533455675396\n",
      "Optimal x2: 0.6666669338236602\n",
      "Utility for A: 0.5291348842640394\n",
      "Utility for B: 0.41997542031862156\n"
     ]
    }
   ],
   "source": [
    "x0 = np.array([0.1, 0.1]) # Laver initialgættet\n",
    "\n",
    "# Definerer bounds\n",
    "bounds = [(0, 1), (0, 1)]  # Assuming x1 and x2 should be between 0 and 1.\n",
    "\n",
    "# Perform the optimization\n",
    "result = minimize(fun=planner_objective, x0=x0, args=(alpha, beta), bounds=bounds)\n",
    "\n",
    "# Extract the results\n",
    "x1_max, x2_max = result.x\n",
    "# To get the maximum utility, calculate it directly using the optimal x1 and x2 found\n",
    "utility_A_max = utility_A(x1_max, x2_max, alpha)\n",
    "utility_B_max = utility_B(x1_max, x2_max, beta)\n",
    "\n",
    "# Printing the results\n",
    "print(f\"Optimal x1: {x1_max}\\nOptimal x2: {x2_max}\\nUtility for A: {utility_A_max}\\nUtility for B: {utility_B_max}\")"
   ]
  },
  {
   "cell_type": "markdown",
   "metadata": {},
   "source": [
    "And saving the allocation for later use."
   ]
  },
  {
   "cell_type": "code",
   "execution_count": null,
   "metadata": {},
   "outputs": [
    {
     "name": "stdout",
     "output_type": "stream",
     "text": [
      "(0.33333533455675396, 0.6666669338236602)\n"
     ]
    }
   ],
   "source": [
    "allocation_6a = (x1_max, x2_max)\n",
    "print(allocation_6a)"
   ]
  },
  {
   "cell_type": "markdown",
   "metadata": {},
   "source": [
    "# Opgave 6b"
   ]
  },
  {
   "cell_type": "code",
   "execution_count": null,
   "metadata": {},
   "outputs": [
    {
     "ename": "NameError",
     "evalue": "name 'allocation_4b' is not defined",
     "output_type": "error",
     "traceback": [
      "\u001b[0;31m---------------------------------------------------------------------------\u001b[0m",
      "\u001b[0;31mNameError\u001b[0m                                 Traceback (most recent call last)",
      "Cell \u001b[0;32mIn[196], line 1\u001b[0m\n\u001b[0;32m----> 1\u001b[0m allocation_3, allocation_4a, allocation_4b, allocation_5a, allocation_5b, allocation_6a\n",
      "\u001b[0;31mNameError\u001b[0m: name 'allocation_4b' is not defined"
     ]
    }
   ],
   "source": [
    "allocation_3, allocation_4a, allocation_4b, allocation_5a, allocation_5b, allocation_6a"
   ]
  },
  {
   "cell_type": "code",
   "execution_count": null,
   "metadata": {},
   "outputs": [
    {
     "ename": "NameError",
     "evalue": "name 'allocation_4b' is not defined",
     "output_type": "error",
     "traceback": [
      "\u001b[0;31m---------------------------------------------------------------------------\u001b[0m",
      "\u001b[0;31mNameError\u001b[0m                                 Traceback (most recent call last)",
      "Cell \u001b[0;32mIn[197], line 1\u001b[0m\n\u001b[0;32m----> 1\u001b[0m specific_allocations \u001b[38;5;241m=\u001b[39m allocation_3, allocation_4a, allocation_4b, allocation_5a, allocation_5b, allocation_6a\n",
      "\u001b[0;31mNameError\u001b[0m: name 'allocation_4b' is not defined"
     ]
    }
   ],
   "source": [
    "specific_allocations = allocation_3, allocation_4a, allocation_4b, allocation_5a, allocation_5b, allocation_6a"
   ]
  },
  {
   "cell_type": "code",
   "execution_count": null,
   "metadata": {},
   "outputs": [
    {
     "ename": "NameError",
     "evalue": "name 'specific_allocations' is not defined",
     "output_type": "error",
     "traceback": [
      "\u001b[0;31m---------------------------------------------------------------------------\u001b[0m",
      "\u001b[0;31mNameError\u001b[0m                                 Traceback (most recent call last)",
      "Cell \u001b[0;32mIn[166], line 5\u001b[0m\n\u001b[1;32m      3\u001b[0m all_x1, all_x2 \u001b[38;5;241m=\u001b[39m \u001b[38;5;28mzip\u001b[39m(\u001b[38;5;241m*\u001b[39mallocations)  \u001b[38;5;66;03m# Extracting all possible allocations\u001b[39;00m\n\u001b[1;32m      4\u001b[0m specific_labels \u001b[38;5;241m=\u001b[39m [\u001b[38;5;124m'\u001b[39m\u001b[38;5;124m3\u001b[39m\u001b[38;5;124m'\u001b[39m, \u001b[38;5;124m'\u001b[39m\u001b[38;5;124m4a\u001b[39m\u001b[38;5;124m'\u001b[39m, \u001b[38;5;124m'\u001b[39m\u001b[38;5;124m4b\u001b[39m\u001b[38;5;124m'\u001b[39m, \u001b[38;5;124m'\u001b[39m\u001b[38;5;124m5a\u001b[39m\u001b[38;5;124m'\u001b[39m, \u001b[38;5;124m'\u001b[39m\u001b[38;5;124m5b\u001b[39m\u001b[38;5;124m'\u001b[39m, \u001b[38;5;124m'\u001b[39m\u001b[38;5;124m6a\u001b[39m\u001b[38;5;124m'\u001b[39m]  \u001b[38;5;66;03m# Labels for specific allocations\u001b[39;00m\n\u001b[0;32m----> 5\u001b[0m specific_x1, specific_x2 \u001b[38;5;241m=\u001b[39m \u001b[38;5;28mzip\u001b[39m(\u001b[38;5;241m*\u001b[39mspecific_allocations)  \u001b[38;5;66;03m# Extract x1 and x2 components\u001b[39;00m\n\u001b[1;32m      7\u001b[0m plt\u001b[38;5;241m.\u001b[39mfigure(figsize\u001b[38;5;241m=\u001b[39m(\u001b[38;5;241m10\u001b[39m, \u001b[38;5;241m10\u001b[39m))\n\u001b[1;32m      8\u001b[0m plt\u001b[38;5;241m.\u001b[39mscatter(all_x1, all_x2, color\u001b[38;5;241m=\u001b[39m\u001b[38;5;124m'\u001b[39m\u001b[38;5;124mgrey\u001b[39m\u001b[38;5;124m'\u001b[39m, s\u001b[38;5;241m=\u001b[39m\u001b[38;5;241m5\u001b[39m, alpha\u001b[38;5;241m=\u001b[39m\u001b[38;5;241m0.2\u001b[39m, label\u001b[38;5;241m=\u001b[39m\u001b[38;5;124m\"\u001b[39m\u001b[38;5;124mPossible Allocations\u001b[39m\u001b[38;5;124m\"\u001b[39m)\n",
      "\u001b[0;31mNameError\u001b[0m: name 'specific_allocations' is not defined"
     ]
    }
   ],
   "source": [
    "\n",
    "# Unpacking allocations and Pareto improvements\n",
    "pareto_x1, pareto_x2 = zip(*pareto_improvements)  # Extracting Pareto improvements\n",
    "all_x1, all_x2 = zip(*allocations)  # Extracting all possible allocations\n",
    "specific_labels = ['3', '4a', '4b', '5a', '5b', '6a']  # Labels for specific allocations\n",
    "specific_x1, specific_x2 = zip(*specific_allocations)  # Extract x1 and x2 components\n",
    "\n",
    "plt.figure(figsize=(10, 10))\n",
    "plt.scatter(all_x1, all_x2, color='grey', s=5, alpha=0.2, label=\"Possible Allocations\")\n",
    "plt.scatter(pareto_x1, pareto_x2, color='red', s=5, label=\"Pareto Improvements\")\n",
    "specific_points = plt.scatter(specific_x1, specific_x2, color='blue', s=30, label=\"Specific Allocations\")\n",
    "\n",
    "# Label specific allocations\n",
    "for i, label in enumerate(specific_labels):\n",
    "    plt.annotate(label, (specific_x1[i], specific_x2[i]), textcoords=\"offset points\", xytext=(10,-5), ha='left')\n",
    "\n",
    "# Generating grids for indifference curves\n",
    "x1 = np.linspace(0, 1, 100)\n",
    "x2 = np.linspace(0, 1, 100)\n",
    "\n",
    "x1A_grid, x2A_grid = np.meshgrid(x1, x2)\n",
    "x1B_grid, x2B_grid = np.meshgrid(1-x1, 1-x2)\n",
    "utility_A_grid = utility_A(x1A_grid, x2A_grid, alpha)  # Assuming utility_A takes these parameters\n",
    "utility_B_grid = utility_B(x1B_grid, x2B_grid, beta)  # Assuming utility_B takes these parameters\n",
    "\n",
    "# Indifference curves\n",
    "plt.contour(x1A_grid, x2A_grid, utility_A_grid, levels=[initial_utility_A], colors='blue', linestyles='dashed')\n",
    "plt.contour(1-x1B_grid, 1-x2B_grid, utility_B_grid, levels=[initial_utility_B], colors='red', linestyles='dashed')\n",
    "\n",
    "# Creating custom legend for contour lines since plt.contour does not support 'label' argument\n",
    "red_line = mlines.Line2D([], [], color='red', linestyle='-', label='Indifference Curve A')\n",
    "blue_line = mlines.Line2D([], [], color='blue', linestyle='-', label='Indifference Curve B')\n",
    "\n",
    "plt.legend(handles=[red_line, blue_line, plt.scatter([], [], color='grey', s=5, alpha=0.2, label=\"Possible Allocations\"), plt.scatter([], [], color='red', s=5, label=\"Pareto Improvements\"), plt.scatter([], [], color='green', s=30, label=\"Specific Allocations\")])\n",
    "\n",
    "plt.xlabel(\"Good 1 for A\")\n",
    "plt.ylabel(\"Good 2 for A\")\n",
    "plt.xlim([0, 1])\n",
    "plt.ylim([0, 1])\n",
    "plt.title(\"Edgeworth Box with All Possible Allocations\")\n",
    "plt.grid(True)\n",
    "plt.show()"
   ]
  },
  {
   "cell_type": "markdown",
   "metadata": {},
   "source": [
    "# Exercise 7"
   ]
  },
  {
   "cell_type": "markdown",
   "metadata": {},
   "source": [
    "We simply solve the exercise."
   ]
  },
  {
   "cell_type": "code",
   "execution_count": null,
   "metadata": {},
   "outputs": [],
   "source": [
    "W = np.random.uniform(0, 1, (50, 2))"
   ]
  },
  {
   "cell_type": "markdown",
   "metadata": {},
   "source": [
    "# Exercise 8"
   ]
  },
  {
   "cell_type": "markdown",
   "metadata": {},
   "source": [
    "We now have a set of initial allocations for consumer A. We can iterate over the set and solve the problem."
   ]
  },
  {
   "cell_type": "markdown",
   "metadata": {},
   "source": [
    "we start with an empty list."
   ]
  },
  {
   "cell_type": "code",
   "execution_count": null,
   "metadata": {},
   "outputs": [],
   "source": [
    "allocation_8 = []"
   ]
  },
  {
   "cell_type": "markdown",
   "metadata": {},
   "source": [
    "Now we iterate over the random set."
   ]
  },
  {
   "cell_type": "code",
   "execution_count": null,
   "metadata": {},
   "outputs": [],
   "source": [
    "for omega_A1, omega_A2 in W:\n",
    "    initial_utility_A = utility_A(omega_A1, omega_A2, alpha)\n",
    "    initial_utility_B = utility_B(1 - omega_A1, 1 - omega_A2, beta)\n",
    "\n",
    "    initial_guess = [0.1, 0.1]\n",
    "\n",
    "    # Define bounds for allocations\n",
    "    bounds = [(0, None), (0, None)]  # Bounds apply to both variables\n",
    "\n",
    "    # Perform the optimization to minimize negative utility of A subject to constraints\n",
    "    result = minimize(neg_utility_A, x0=initial_guess, bounds=bounds, constraints={'type': 'ineq', 'fun': constraint_C})\n",
    "\n",
    "    x1_max, x2_max = result.x\n",
    "    utility_A_max = -result.fun\n",
    "\n",
    "    if x1_max <= 1 and x2_max <= 1:\n",
    "        allocation_8.append((x1_max, x2_max))"
   ]
  },
  {
   "cell_type": "code",
   "execution_count": null,
   "metadata": {},
   "outputs": [
    {
     "name": "stdout",
     "output_type": "stream",
     "text": [
      "[]\n"
     ]
    }
   ],
   "source": [
    "print(allocation_8)"
   ]
  },
  {
   "cell_type": "code",
   "execution_count": null,
   "metadata": {},
   "outputs": [
    {
     "ename": "ValueError",
     "evalue": "not enough values to unpack (expected 2, got 0)",
     "output_type": "error",
     "traceback": [
      "\u001b[0;31m---------------------------------------------------------------------------\u001b[0m",
      "\u001b[0;31mValueError\u001b[0m                                Traceback (most recent call last)",
      "Cell \u001b[0;32mIn[812], line 1\u001b[0m\n\u001b[0;32m----> 1\u001b[0m all_x1, all_x2 \u001b[38;5;241m=\u001b[39m \u001b[38;5;28mzip\u001b[39m(\u001b[38;5;241m*\u001b[39mallocation_8)  \u001b[38;5;66;03m# Extracting all possible allocations\u001b[39;00m\n\u001b[1;32m      3\u001b[0m plt\u001b[38;5;241m.\u001b[39mfigure(figsize\u001b[38;5;241m=\u001b[39m(\u001b[38;5;241m10\u001b[39m, \u001b[38;5;241m10\u001b[39m))\n\u001b[1;32m      4\u001b[0m plt\u001b[38;5;241m.\u001b[39mscatter(all_x1, all_x2, color\u001b[38;5;241m=\u001b[39m\u001b[38;5;124m'\u001b[39m\u001b[38;5;124mblue\u001b[39m\u001b[38;5;124m'\u001b[39m, s\u001b[38;5;241m=\u001b[39m\u001b[38;5;241m5\u001b[39m, alpha\u001b[38;5;241m=\u001b[39m\u001b[38;5;241m1\u001b[39m, label\u001b[38;5;241m=\u001b[39m\u001b[38;5;124m\"\u001b[39m\u001b[38;5;124mPossible Allocations\u001b[39m\u001b[38;5;124m\"\u001b[39m)\n",
      "\u001b[0;31mValueError\u001b[0m: not enough values to unpack (expected 2, got 0)"
     ]
    }
   ],
   "source": [
    "all_x1, all_x2 = zip(*allocation_8)  # Extracting all possible allocations\n",
    "\n",
    "plt.figure(figsize=(10, 10))\n",
    "plt.scatter(all_x1, all_x2, color='blue', s=5, alpha=1, label=\"Possible Allocations\")\n",
    "\n",
    "x1 = np.linspace(0, 1, 100)  # Creates an array of 100 points between 0 and 1\n",
    "x2 = np.linspace(0, 1, 100)\n",
    "\n",
    "# Creating grid for utility calculations\n",
    "x1A_grid, x2A_grid = np.meshgrid(x1, x2)\n",
    "x1B_grid, x2B_grid = np.meshgrid(1 - x1, 1 - x2)\n",
    "\n",
    "# Calculating utility for each point in the grid\n",
    "utility_A_grid = utility_A(x1A_grid, x2A_grid, alpha)  # Assuming utility_A takes these parameters\n",
    "utility_B_grid = utility_B(x1B_grid, x2B_grid, beta)  # Assuming utility_B takes these parameters\n",
    "\n",
    "# Initial utilities for the starting allocation - using the first allocation as an example\n",
    "initial_utility_A = utility_A(allocations[0][0], allocations[0][1], alpha)\n",
    "initial_utility_B = utility_B(1 - allocations[0][0], 1 - allocations[0][1], beta)\n",
    "\n",
    "# Plotting indifference curves\n",
    "# Creating custom legend for contour lines since plt.contour does not support 'label' argument\n",
    "\n",
    "plt.xlabel(\"Good 1 for A\")\n",
    "plt.ylabel(\"Good 2 for A\")\n",
    "plt.title(\"Edgeworth Box with All Possible Allocations from Random Set W\")\n",
    "plt.grid(True)\n",
    "plt.show()"
   ]
  }
 ],
 "metadata": {
  "kernelspec": {
   "display_name": "base",
   "language": "python",
   "name": "python3"
  },
  "language_info": {
   "codemirror_mode": {
    "name": "ipython",
    "version": 3
   },
   "file_extension": ".py",
   "mimetype": "text/x-python",
   "name": "python",
   "nbconvert_exporter": "python",
   "pygments_lexer": "ipython3",
   "version": "3.11.7"
  },
  "toc-autonumbering": true,
  "vscode": {
   "interpreter": {
    "hash": "47ef90cdf3004d3f859f1fb202523c65c07ba7c22eefd261b181f4744e2d0403"
   }
  }
 },
 "nbformat": 4,
 "nbformat_minor": 4
}
