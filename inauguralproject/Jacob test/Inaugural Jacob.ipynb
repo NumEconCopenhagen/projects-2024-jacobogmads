{
 "cells": [
  {
   "cell_type": "markdown",
   "metadata": {},
   "source": [
    "Importing packages:"
   ]
  },
  {
   "cell_type": "code",
   "execution_count": 19,
   "metadata": {},
   "outputs": [],
   "source": [
    "from scipy.optimize import minimize\n",
    "import numpy as np\n",
    "import matplotlib.pyplot as plt"
   ]
  },
  {
   "cell_type": "markdown",
   "metadata": {},
   "source": [
    "Definerer endowments:"
   ]
  },
  {
   "cell_type": "code",
   "execution_count": 20,
   "metadata": {},
   "outputs": [
    {
     "name": "stdout",
     "output_type": "stream",
     "text": [
      "0.8 0.3 0.2 0.7\n"
     ]
    }
   ],
   "source": [
    "# endowments for consumer a is given:\n",
    "omega1_a = 0.8\n",
    "omega2_a = 0.3\n",
    "\n",
    "# enodwments for consumer b:\n",
    "omega1_b = round(1 - omega1_a, 1)\n",
    "omega2_b = round(1 - omega2_a, 1)\n",
    "\n",
    "print(omega1_a, omega2_a, omega1_b, omega2_b)"
   ]
  },
  {
   "cell_type": "markdown",
   "metadata": {},
   "source": [
    "Definerer nyttefunktionerne:"
   ]
  },
  {
   "cell_type": "code",
   "execution_count": 21,
   "metadata": {},
   "outputs": [],
   "source": [
    "def utility_A(x1, x2, alpha):\n",
    "    return x1**alpha * x2**(1 - alpha)\n",
    "\n",
    "def utility_B(x1, x2, beta):\n",
    "    return x1**beta * x2**(1 - beta)"
   ]
  },
  {
   "cell_type": "markdown",
   "metadata": {},
   "source": [
    "Definerer parametre:"
   ]
  },
  {
   "cell_type": "code",
   "execution_count": 22,
   "metadata": {},
   "outputs": [],
   "source": [
    "alpha = 1/3\n",
    "beta = 2/3\n",
    "N = 75"
   ]
  },
  {
   "cell_type": "markdown",
   "metadata": {},
   "source": [
    "Initial utility er givet ved:"
   ]
  },
  {
   "cell_type": "code",
   "execution_count": 24,
   "metadata": {},
   "outputs": [],
   "source": [
    "initial_utility_A = utility_A(omega1_a, omega2_a, alpha)\n",
    "initial_utility_B = utility_B(1 - omega1_a, 1 - omega2_a, beta)"
   ]
  },
  {
   "cell_type": "markdown",
   "metadata": {},
   "source": [
    "Finder alle mulige allokeringer (men begrænset af N=75)"
   ]
  },
  {
   "cell_type": "code",
   "execution_count": 25,
   "metadata": {},
   "outputs": [],
   "source": [
    "allocations = [(x1/N, x2/N) for x1 in range(N + 1) for x2 in range(N + 1)]"
   ]
  },
  {
   "cell_type": "code",
   "execution_count": null,
   "metadata": {},
   "outputs": [],
   "source": []
  }
 ],
 "metadata": {
  "kernelspec": {
   "display_name": "Python 3",
   "language": "python",
   "name": "python3"
  },
  "language_info": {
   "codemirror_mode": {
    "name": "ipython",
    "version": 3
   },
   "file_extension": ".py",
   "mimetype": "text/x-python",
   "name": "python",
   "nbconvert_exporter": "python",
   "pygments_lexer": "ipython3",
   "version": "3.11.5"
  }
 },
 "nbformat": 4,
 "nbformat_minor": 2
}
